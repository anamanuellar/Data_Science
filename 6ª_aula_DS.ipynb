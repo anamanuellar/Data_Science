{
  "cells": [
    {
      "cell_type": "markdown",
      "metadata": {
        "id": "view-in-github",
        "colab_type": "text"
      },
      "source": [
        "<a href=\"https://colab.research.google.com/github/anamanuellar/Data_Science/blob/main/6%C2%AA_aula_DS.ipynb\" target=\"_parent\"><img src=\"https://colab.research.google.com/assets/colab-badge.svg\" alt=\"Open In Colab\"/></a>"
      ]
    },
    {
      "cell_type": "markdown",
      "metadata": {
        "id": "eVlKGTQBmpJh"
      },
      "source": [
        "# Respondendo as questões do CEO"
      ]
    },
    {
      "cell_type": "markdown",
      "metadata": {
        "id": "URfOfwkgncX6"
      },
      "source": [
        "Nosso CEO deseja saber algumas informações sobre o faturamento de vinhos. A equipe de vendas nos forneceu um dataset com alguns dados e precisamos extrair algumas informações para respondermos as questões"
      ]
    },
    {
      "cell_type": "markdown",
      "metadata": {
        "id": "OP-nai8noJqC"
      },
      "source": [
        "## Carregando o dataset"
      ]
    },
    {
      "cell_type": "code",
      "execution_count": null,
      "metadata": {
        "id": "VbB_AUrRoRSL"
      },
      "outputs": [],
      "source": [
        "import pandas as pd"
      ]
    },
    {
      "cell_type": "code",
      "execution_count": null,
      "metadata": {
        "id": "qLGKqTm5oUBg"
      },
      "outputs": [],
      "source": [
        "dataset = r'wines.csv'\n",
        "df = pd.read_csv(dataset)"
      ]
    },
    {
      "cell_type": "markdown",
      "metadata": {
        "id": "3QdSXJ2Scg8K"
      },
      "source": [
        "## Analise Exploratória - Explorando os Dados"
      ]
    },
    {
      "cell_type": "markdown",
      "metadata": {
        "id": "NhD8EwfRcg8K"
      },
      "source": [
        "1. Descubra o contexto dos dados"
      ]
    },
    {
      "cell_type": "code",
      "execution_count": null,
      "metadata": {
        "colab": {
          "base_uri": "https://localhost:8080/",
          "height": 337
        },
        "id": "0mhRzJYwopT2",
        "outputId": "e7edcb9f-9952-4839-a48a-ec0ab5a42ada"
      },
      "outputs": [
        {
          "data": {
            "text/html": [
              "<div>\n",
              "<style scoped>\n",
              "    .dataframe tbody tr th:only-of-type {\n",
              "        vertical-align: middle;\n",
              "    }\n",
              "\n",
              "    .dataframe tbody tr th {\n",
              "        vertical-align: top;\n",
              "    }\n",
              "\n",
              "    .dataframe thead th {\n",
              "        text-align: right;\n",
              "    }\n",
              "</style>\n",
              "<table border=\"1\" class=\"dataframe\">\n",
              "  <thead>\n",
              "    <tr style=\"text-align: right;\">\n",
              "      <th></th>\n",
              "      <th>date</th>\n",
              "      <th>label</th>\n",
              "      <th>vintage</th>\n",
              "      <th>style</th>\n",
              "      <th>country</th>\n",
              "      <th>price</th>\n",
              "      <th>quantity</th>\n",
              "      <th>rate</th>\n",
              "    </tr>\n",
              "  </thead>\n",
              "  <tbody>\n",
              "    <tr>\n",
              "      <th>122</th>\n",
              "      <td>2021-07-03</td>\n",
              "      <td>Wine Y</td>\n",
              "      <td>1992</td>\n",
              "      <td>Orange</td>\n",
              "      <td>Germany</td>\n",
              "      <td>307.03</td>\n",
              "      <td>13</td>\n",
              "      <td>93</td>\n",
              "    </tr>\n",
              "    <tr>\n",
              "      <th>3980</th>\n",
              "      <td>2021-01-08</td>\n",
              "      <td>Wine M</td>\n",
              "      <td>1996</td>\n",
              "      <td>White</td>\n",
              "      <td>Brazil</td>\n",
              "      <td>358.67</td>\n",
              "      <td>6</td>\n",
              "      <td>76</td>\n",
              "    </tr>\n",
              "    <tr>\n",
              "      <th>3291</th>\n",
              "      <td>2021-10-16</td>\n",
              "      <td>Wine V</td>\n",
              "      <td>1994</td>\n",
              "      <td>Sweet</td>\n",
              "      <td>France</td>\n",
              "      <td>150.91</td>\n",
              "      <td>15</td>\n",
              "      <td>97</td>\n",
              "    </tr>\n",
              "    <tr>\n",
              "      <th>7444</th>\n",
              "      <td>2021-07-01</td>\n",
              "      <td>Wine T</td>\n",
              "      <td>1997</td>\n",
              "      <td>Rose</td>\n",
              "      <td>Chile</td>\n",
              "      <td>357.30</td>\n",
              "      <td>4</td>\n",
              "      <td>78</td>\n",
              "    </tr>\n",
              "    <tr>\n",
              "      <th>7847</th>\n",
              "      <td>2021-04-08</td>\n",
              "      <td>Wine S</td>\n",
              "      <td>2020</td>\n",
              "      <td>Rose</td>\n",
              "      <td>Portugal</td>\n",
              "      <td>90.08</td>\n",
              "      <td>7</td>\n",
              "      <td>97</td>\n",
              "    </tr>\n",
              "  </tbody>\n",
              "</table>\n",
              "</div>"
            ],
            "text/plain": [
              "            date   label  vintage   style   country   price  quantity  rate\n",
              "122   2021-07-03  Wine Y     1992  Orange   Germany  307.03        13    93\n",
              "3980  2021-01-08  Wine M     1996   White    Brazil  358.67         6    76\n",
              "3291  2021-10-16  Wine V     1994   Sweet    France  150.91        15    97\n",
              "7444  2021-07-01  Wine T     1997    Rose     Chile  357.30         4    78\n",
              "7847  2021-04-08  Wine S     2020    Rose  Portugal   90.08         7    97"
            ]
          },
          "execution_count": 12,
          "metadata": {},
          "output_type": "execute_result"
        }
      ],
      "source": [
        "df.sample(5)"
      ]
    },
    {
      "cell_type": "code",
      "execution_count": null,
      "metadata": {
        "id": "PBA52BHpcg8L",
        "outputId": "1b720990-c420-4462-edb0-a97d57c1469d"
      },
      "outputs": [
        {
          "name": "stdout",
          "output_type": "stream",
          "text": [
            "<class 'pandas.core.frame.DataFrame'>\n",
            "RangeIndex: 10000 entries, 0 to 9999\n",
            "Data columns (total 8 columns):\n",
            " #   Column    Non-Null Count  Dtype  \n",
            "---  ------    --------------  -----  \n",
            " 0   date      10000 non-null  object \n",
            " 1   label     10000 non-null  object \n",
            " 2   vintage   10000 non-null  int64  \n",
            " 3   style     10000 non-null  object \n",
            " 4   country   10000 non-null  object \n",
            " 5   price     10000 non-null  float64\n",
            " 6   quantity  10000 non-null  int64  \n",
            " 7   rate      10000 non-null  int64  \n",
            "dtypes: float64(1), int64(3), object(4)\n",
            "memory usage: 625.1+ KB\n"
          ]
        }
      ],
      "source": [
        "df.info()"
      ]
    },
    {
      "cell_type": "markdown",
      "metadata": {
        "id": "Ln6E3HZ7cg8L"
      },
      "source": [
        "Converter coluna \"date\" para o tipo \"DateTime\""
      ]
    },
    {
      "cell_type": "code",
      "execution_count": null,
      "metadata": {
        "id": "ke4xEKKscg8L"
      },
      "outputs": [],
      "source": [
        "# Date Time\n",
        "df['date'] = pd.to_datetime(df['date'], yearfirst=True)"
      ]
    },
    {
      "cell_type": "code",
      "execution_count": null,
      "metadata": {
        "id": "-yN6SBXkcg8L",
        "outputId": "54c96300-fb35-4eda-c760-cbdd23319da6"
      },
      "outputs": [
        {
          "name": "stdout",
          "output_type": "stream",
          "text": [
            "<class 'pandas.core.frame.DataFrame'>\n",
            "RangeIndex: 10000 entries, 0 to 9999\n",
            "Data columns (total 8 columns):\n",
            " #   Column    Non-Null Count  Dtype         \n",
            "---  ------    --------------  -----         \n",
            " 0   date      10000 non-null  datetime64[ns]\n",
            " 1   label     10000 non-null  object        \n",
            " 2   vintage   10000 non-null  int64         \n",
            " 3   style     10000 non-null  object        \n",
            " 4   country   10000 non-null  object        \n",
            " 5   price     10000 non-null  float64       \n",
            " 6   quantity  10000 non-null  int64         \n",
            " 7   rate      10000 non-null  int64         \n",
            "dtypes: datetime64[ns](1), float64(1), int64(3), object(3)\n",
            "memory usage: 625.1+ KB\n"
          ]
        }
      ],
      "source": [
        "df.info()"
      ]
    },
    {
      "cell_type": "code",
      "execution_count": null,
      "metadata": {
        "id": "sTKYbP3Hcg8M",
        "outputId": "b090fa90-05e6-47cf-a9c0-0246ad21b830"
      },
      "outputs": [
        {
          "data": {
            "text/plain": [
              "'Olá Davi!'"
            ]
          },
          "execution_count": 40,
          "metadata": {},
          "output_type": "execute_result"
        }
      ],
      "source": [
        "def saudacao(nome):\n",
        "    return f'Olá {nome}!'\n",
        "\n",
        "saudacao_davi = saudacao('Davi')\n",
        "saudacao_davi"
      ]
    },
    {
      "cell_type": "code",
      "execution_count": null,
      "metadata": {
        "id": "7PwKEFqWcg8M",
        "outputId": "460e8e01-b856-4712-8c00-29fa164dc549"
      },
      "outputs": [
        {
          "data": {
            "text/plain": [
              "0    2021-01-04\n",
              "1    2021-03-11\n",
              "2    2021-10-02\n",
              "3    2021-06-05\n",
              "4    2021-09-06\n",
              "5    2021-07-10\n",
              "6    2021-11-01\n",
              "7    2021-08-22\n",
              "8    2021-03-06\n",
              "9    2021-04-25\n",
              "Name: date, dtype: object"
            ]
          },
          "execution_count": 26,
          "metadata": {},
          "output_type": "execute_result"
        }
      ],
      "source": [
        "df['date'].head(10)"
      ]
    },
    {
      "cell_type": "code",
      "execution_count": null,
      "metadata": {
        "id": "H7G06RU3cg8M",
        "outputId": "bde19000-4aa3-4083-881f-665799acff69"
      },
      "outputs": [
        {
          "data": {
            "text/plain": [
              "9990    2021-11-16\n",
              "9991    2021-06-16\n",
              "9992    2021-06-02\n",
              "9993    2021-05-21\n",
              "9994    2021-06-27\n",
              "9995    2021-08-07\n",
              "9996    2021-03-03\n",
              "9997    2021-12-28\n",
              "9998    2021-06-19\n",
              "9999    2021-09-18\n",
              "Name: date, dtype: object"
            ]
          },
          "execution_count": 27,
          "metadata": {},
          "output_type": "execute_result"
        }
      ],
      "source": [
        "df['date'].tail(10)"
      ]
    },
    {
      "cell_type": "code",
      "execution_count": null,
      "metadata": {
        "id": "mnQ-thvzcg8M",
        "outputId": "64c19715-137c-4fe6-a3ac-b542ba56f388"
      },
      "outputs": [
        {
          "data": {
            "text/plain": [
              "Index(['date', 'label', 'vintage', 'style', 'country', 'price', 'quantity',\n",
              "       'rate'],\n",
              "      dtype='object')"
            ]
          },
          "execution_count": 32,
          "metadata": {},
          "output_type": "execute_result"
        }
      ],
      "source": [
        "df.columns"
      ]
    },
    {
      "cell_type": "code",
      "execution_count": null,
      "metadata": {
        "id": "R_dmk7Lecg8M",
        "outputId": "cd02ea3e-40c5-4d9a-f5c8-b416557e1f24"
      },
      "outputs": [
        {
          "data": {
            "text/html": [
              "<div>\n",
              "<style scoped>\n",
              "    .dataframe tbody tr th:only-of-type {\n",
              "        vertical-align: middle;\n",
              "    }\n",
              "\n",
              "    .dataframe tbody tr th {\n",
              "        vertical-align: top;\n",
              "    }\n",
              "\n",
              "    .dataframe thead th {\n",
              "        text-align: right;\n",
              "    }\n",
              "</style>\n",
              "<table border=\"1\" class=\"dataframe\">\n",
              "  <thead>\n",
              "    <tr style=\"text-align: right;\">\n",
              "      <th></th>\n",
              "      <th>vintage</th>\n",
              "      <th>price</th>\n",
              "      <th>quantity</th>\n",
              "      <th>rate</th>\n",
              "    </tr>\n",
              "  </thead>\n",
              "  <tbody>\n",
              "    <tr>\n",
              "      <th>count</th>\n",
              "      <td>10000.000000</td>\n",
              "      <td>10000.000000</td>\n",
              "      <td>10000.000000</td>\n",
              "      <td>10000.000000</td>\n",
              "    </tr>\n",
              "    <tr>\n",
              "      <th>mean</th>\n",
              "      <td>2001.404200</td>\n",
              "      <td>213.907129</td>\n",
              "      <td>8.015500</td>\n",
              "      <td>87.484200</td>\n",
              "    </tr>\n",
              "    <tr>\n",
              "      <th>std</th>\n",
              "      <td>11.550375</td>\n",
              "      <td>134.010508</td>\n",
              "      <td>4.280244</td>\n",
              "      <td>7.475717</td>\n",
              "    </tr>\n",
              "    <tr>\n",
              "      <th>min</th>\n",
              "      <td>1982.000000</td>\n",
              "      <td>50.010000</td>\n",
              "      <td>1.000000</td>\n",
              "      <td>75.000000</td>\n",
              "    </tr>\n",
              "    <tr>\n",
              "      <th>25%</th>\n",
              "      <td>1991.000000</td>\n",
              "      <td>105.617500</td>\n",
              "      <td>4.000000</td>\n",
              "      <td>81.000000</td>\n",
              "    </tr>\n",
              "    <tr>\n",
              "      <th>50%</th>\n",
              "      <td>2001.000000</td>\n",
              "      <td>178.240000</td>\n",
              "      <td>8.000000</td>\n",
              "      <td>88.000000</td>\n",
              "    </tr>\n",
              "    <tr>\n",
              "      <th>75%</th>\n",
              "      <td>2011.000000</td>\n",
              "      <td>294.087500</td>\n",
              "      <td>12.000000</td>\n",
              "      <td>94.000000</td>\n",
              "    </tr>\n",
              "    <tr>\n",
              "      <th>max</th>\n",
              "      <td>2021.000000</td>\n",
              "      <td>1107.890000</td>\n",
              "      <td>15.000000</td>\n",
              "      <td>100.000000</td>\n",
              "    </tr>\n",
              "  </tbody>\n",
              "</table>\n",
              "</div>"
            ],
            "text/plain": [
              "            vintage         price      quantity          rate\n",
              "count  10000.000000  10000.000000  10000.000000  10000.000000\n",
              "mean    2001.404200    213.907129      8.015500     87.484200\n",
              "std       11.550375    134.010508      4.280244      7.475717\n",
              "min     1982.000000     50.010000      1.000000     75.000000\n",
              "25%     1991.000000    105.617500      4.000000     81.000000\n",
              "50%     2001.000000    178.240000      8.000000     88.000000\n",
              "75%     2011.000000    294.087500     12.000000     94.000000\n",
              "max     2021.000000   1107.890000     15.000000    100.000000"
            ]
          },
          "execution_count": 6,
          "metadata": {},
          "output_type": "execute_result"
        }
      ],
      "source": [
        "df.describe()"
      ]
    },
    {
      "cell_type": "markdown",
      "metadata": {
        "id": "w19DhxV2oxHd"
      },
      "source": [
        "## Perguntas do CEO"
      ]
    },
    {
      "cell_type": "markdown",
      "metadata": {
        "id": "uhAP6z1doze0"
      },
      "source": [
        "### 1. Quanto custa o vinho mais caro?"
      ]
    },
    {
      "cell_type": "code",
      "execution_count": null,
      "metadata": {
        "id": "toqc9-Mbcg8N",
        "outputId": "01bf40ee-0bb7-4b11-dcbc-49531b3a0596"
      },
      "outputs": [
        {
          "data": {
            "text/plain": [
              "1107.89"
            ]
          },
          "execution_count": 43,
          "metadata": {},
          "output_type": "execute_result"
        }
      ],
      "source": [
        "maior_preco = df['price'].max()\n",
        "maior_preco"
      ]
    },
    {
      "cell_type": "markdown",
      "metadata": {
        "id": "77LGdGxGpjb_"
      },
      "source": [
        "### 2. Quanto custa o vinho mais barato?"
      ]
    },
    {
      "cell_type": "code",
      "execution_count": null,
      "metadata": {
        "id": "G9Uj3GOWcg8O",
        "outputId": "bff0bc7f-382d-4d41-ef77-7c5017827c3f"
      },
      "outputs": [
        {
          "data": {
            "text/plain": [
              "50.01"
            ]
          },
          "execution_count": 44,
          "metadata": {},
          "output_type": "execute_result"
        }
      ],
      "source": [
        "menor_preco = df['price'].min()\n",
        "menor_preco"
      ]
    },
    {
      "cell_type": "markdown",
      "metadata": {
        "id": "H0Q1_sdspnLW"
      },
      "source": [
        "### 3. Qual o vinho mais caro?"
      ]
    },
    {
      "cell_type": "code",
      "execution_count": null,
      "metadata": {
        "id": "6446iciqcg8P",
        "outputId": "ff0e8d73-ac9e-44c6-bd3a-482eaff52787"
      },
      "outputs": [
        {
          "data": {
            "text/html": [
              "<div>\n",
              "<style scoped>\n",
              "    .dataframe tbody tr th:only-of-type {\n",
              "        vertical-align: middle;\n",
              "    }\n",
              "\n",
              "    .dataframe tbody tr th {\n",
              "        vertical-align: top;\n",
              "    }\n",
              "\n",
              "    .dataframe thead th {\n",
              "        text-align: right;\n",
              "    }\n",
              "</style>\n",
              "<table border=\"1\" class=\"dataframe\">\n",
              "  <thead>\n",
              "    <tr style=\"text-align: right;\">\n",
              "      <th></th>\n",
              "      <th>date</th>\n",
              "      <th>label</th>\n",
              "      <th>vintage</th>\n",
              "      <th>style</th>\n",
              "      <th>country</th>\n",
              "      <th>price</th>\n",
              "      <th>quantity</th>\n",
              "      <th>rate</th>\n",
              "    </tr>\n",
              "  </thead>\n",
              "  <tbody>\n",
              "    <tr>\n",
              "      <th>1249</th>\n",
              "      <td>2021-09-29</td>\n",
              "      <td>Wine Q</td>\n",
              "      <td>2002</td>\n",
              "      <td>Sparkling</td>\n",
              "      <td>Italy</td>\n",
              "      <td>1107.89</td>\n",
              "      <td>13</td>\n",
              "      <td>92</td>\n",
              "    </tr>\n",
              "  </tbody>\n",
              "</table>\n",
              "</div>"
            ],
            "text/plain": [
              "           date   label  vintage      style country    price  quantity  rate\n",
              "1249 2021-09-29  Wine Q     2002  Sparkling   Italy  1107.89        13    92"
            ]
          },
          "execution_count": 45,
          "metadata": {},
          "output_type": "execute_result"
        }
      ],
      "source": [
        "df.loc[df['price'] == maior_preco]"
      ]
    },
    {
      "cell_type": "markdown",
      "metadata": {
        "id": "oEyZJS0gpv93"
      },
      "source": [
        "### 4. Qual o vinho mais barato?"
      ]
    },
    {
      "cell_type": "code",
      "execution_count": null,
      "metadata": {
        "id": "DZTdm5Ngcg8P",
        "outputId": "b8f8abfb-0a93-473f-9e23-659859bd06c8"
      },
      "outputs": [
        {
          "data": {
            "text/html": [
              "<div>\n",
              "<style scoped>\n",
              "    .dataframe tbody tr th:only-of-type {\n",
              "        vertical-align: middle;\n",
              "    }\n",
              "\n",
              "    .dataframe tbody tr th {\n",
              "        vertical-align: top;\n",
              "    }\n",
              "\n",
              "    .dataframe thead th {\n",
              "        text-align: right;\n",
              "    }\n",
              "</style>\n",
              "<table border=\"1\" class=\"dataframe\">\n",
              "  <thead>\n",
              "    <tr style=\"text-align: right;\">\n",
              "      <th></th>\n",
              "      <th>date</th>\n",
              "      <th>label</th>\n",
              "      <th>vintage</th>\n",
              "      <th>style</th>\n",
              "      <th>country</th>\n",
              "      <th>price</th>\n",
              "      <th>quantity</th>\n",
              "      <th>rate</th>\n",
              "    </tr>\n",
              "  </thead>\n",
              "  <tbody>\n",
              "    <tr>\n",
              "      <th>4910</th>\n",
              "      <td>2021-08-15</td>\n",
              "      <td>Wine Z</td>\n",
              "      <td>2009</td>\n",
              "      <td>Orange</td>\n",
              "      <td>Brazil</td>\n",
              "      <td>50.01</td>\n",
              "      <td>5</td>\n",
              "      <td>90</td>\n",
              "    </tr>\n",
              "    <tr>\n",
              "      <th>9256</th>\n",
              "      <td>2021-11-01</td>\n",
              "      <td>Wine W</td>\n",
              "      <td>1995</td>\n",
              "      <td>Sweet</td>\n",
              "      <td>Brazil</td>\n",
              "      <td>50.01</td>\n",
              "      <td>12</td>\n",
              "      <td>94</td>\n",
              "    </tr>\n",
              "  </tbody>\n",
              "</table>\n",
              "</div>"
            ],
            "text/plain": [
              "           date   label  vintage   style country  price  quantity  rate\n",
              "4910 2021-08-15  Wine Z     2009  Orange  Brazil  50.01         5    90\n",
              "9256 2021-11-01  Wine W     1995   Sweet  Brazil  50.01        12    94"
            ]
          },
          "execution_count": 46,
          "metadata": {},
          "output_type": "execute_result"
        }
      ],
      "source": [
        "df.loc[df['price'] == menor_preco]"
      ]
    },
    {
      "cell_type": "markdown",
      "metadata": {
        "id": "oWOTgL9Xp_dV"
      },
      "source": [
        "### 5. Quanto foi vendido em 2021?"
      ]
    },
    {
      "cell_type": "code",
      "execution_count": null,
      "metadata": {
        "id": "c2PlLek_cg8P",
        "outputId": "b512dc3e-390b-4fe5-cc5e-90b5a4c6ba47"
      },
      "outputs": [
        {
          "data": {
            "text/html": [
              "<div>\n",
              "<style scoped>\n",
              "    .dataframe tbody tr th:only-of-type {\n",
              "        vertical-align: middle;\n",
              "    }\n",
              "\n",
              "    .dataframe tbody tr th {\n",
              "        vertical-align: top;\n",
              "    }\n",
              "\n",
              "    .dataframe thead th {\n",
              "        text-align: right;\n",
              "    }\n",
              "</style>\n",
              "<table border=\"1\" class=\"dataframe\">\n",
              "  <thead>\n",
              "    <tr style=\"text-align: right;\">\n",
              "      <th></th>\n",
              "      <th>date</th>\n",
              "      <th>label</th>\n",
              "      <th>vintage</th>\n",
              "      <th>style</th>\n",
              "      <th>country</th>\n",
              "      <th>price</th>\n",
              "      <th>quantity</th>\n",
              "      <th>rate</th>\n",
              "    </tr>\n",
              "  </thead>\n",
              "  <tbody>\n",
              "    <tr>\n",
              "      <th>0</th>\n",
              "      <td>2021-01-04</td>\n",
              "      <td>Wine K</td>\n",
              "      <td>2002</td>\n",
              "      <td>White</td>\n",
              "      <td>Portugal</td>\n",
              "      <td>144.22</td>\n",
              "      <td>9</td>\n",
              "      <td>97</td>\n",
              "    </tr>\n",
              "    <tr>\n",
              "      <th>1</th>\n",
              "      <td>2021-03-11</td>\n",
              "      <td>Wine J</td>\n",
              "      <td>1982</td>\n",
              "      <td>Red</td>\n",
              "      <td>Portugal</td>\n",
              "      <td>244.80</td>\n",
              "      <td>3</td>\n",
              "      <td>76</td>\n",
              "    </tr>\n",
              "    <tr>\n",
              "      <th>2</th>\n",
              "      <td>2021-10-02</td>\n",
              "      <td>Wine Y</td>\n",
              "      <td>2018</td>\n",
              "      <td>Orange</td>\n",
              "      <td>France</td>\n",
              "      <td>98.83</td>\n",
              "      <td>2</td>\n",
              "      <td>79</td>\n",
              "    </tr>\n",
              "    <tr>\n",
              "      <th>3</th>\n",
              "      <td>2021-06-05</td>\n",
              "      <td>Wine I</td>\n",
              "      <td>1989</td>\n",
              "      <td>Red</td>\n",
              "      <td>Spain</td>\n",
              "      <td>59.64</td>\n",
              "      <td>11</td>\n",
              "      <td>77</td>\n",
              "    </tr>\n",
              "    <tr>\n",
              "      <th>4</th>\n",
              "      <td>2021-09-06</td>\n",
              "      <td>Wine N</td>\n",
              "      <td>2006</td>\n",
              "      <td>White</td>\n",
              "      <td>Spain</td>\n",
              "      <td>187.70</td>\n",
              "      <td>6</td>\n",
              "      <td>91</td>\n",
              "    </tr>\n",
              "  </tbody>\n",
              "</table>\n",
              "</div>"
            ],
            "text/plain": [
              "        date   label  vintage   style   country   price  quantity  rate\n",
              "0 2021-01-04  Wine K     2002   White  Portugal  144.22         9    97\n",
              "1 2021-03-11  Wine J     1982     Red  Portugal  244.80         3    76\n",
              "2 2021-10-02  Wine Y     2018  Orange    France   98.83         2    79\n",
              "3 2021-06-05  Wine I     1989     Red     Spain   59.64        11    77\n",
              "4 2021-09-06  Wine N     2006   White     Spain  187.70         6    91"
            ]
          },
          "execution_count": 48,
          "metadata": {},
          "output_type": "execute_result"
        }
      ],
      "source": [
        "df.head(5)"
      ]
    },
    {
      "cell_type": "code",
      "execution_count": null,
      "metadata": {
        "id": "4a9vAn8Jcg8Q",
        "outputId": "d58eab7b-e6a2-4a58-e5cf-b3b780ba44d9"
      },
      "outputs": [
        {
          "data": {
            "text/html": [
              "<div>\n",
              "<style scoped>\n",
              "    .dataframe tbody tr th:only-of-type {\n",
              "        vertical-align: middle;\n",
              "    }\n",
              "\n",
              "    .dataframe tbody tr th {\n",
              "        vertical-align: top;\n",
              "    }\n",
              "\n",
              "    .dataframe thead th {\n",
              "        text-align: right;\n",
              "    }\n",
              "</style>\n",
              "<table border=\"1\" class=\"dataframe\">\n",
              "  <thead>\n",
              "    <tr style=\"text-align: right;\">\n",
              "      <th></th>\n",
              "      <th>date</th>\n",
              "      <th>label</th>\n",
              "      <th>vintage</th>\n",
              "      <th>style</th>\n",
              "      <th>country</th>\n",
              "      <th>price</th>\n",
              "      <th>quantity</th>\n",
              "      <th>rate</th>\n",
              "      <th>subtotal</th>\n",
              "    </tr>\n",
              "  </thead>\n",
              "  <tbody>\n",
              "    <tr>\n",
              "      <th>0</th>\n",
              "      <td>2021-01-04</td>\n",
              "      <td>Wine K</td>\n",
              "      <td>2002</td>\n",
              "      <td>White</td>\n",
              "      <td>Portugal</td>\n",
              "      <td>144.22</td>\n",
              "      <td>9</td>\n",
              "      <td>97</td>\n",
              "      <td>1297.98</td>\n",
              "    </tr>\n",
              "    <tr>\n",
              "      <th>1</th>\n",
              "      <td>2021-03-11</td>\n",
              "      <td>Wine J</td>\n",
              "      <td>1982</td>\n",
              "      <td>Red</td>\n",
              "      <td>Portugal</td>\n",
              "      <td>244.80</td>\n",
              "      <td>3</td>\n",
              "      <td>76</td>\n",
              "      <td>734.40</td>\n",
              "    </tr>\n",
              "    <tr>\n",
              "      <th>2</th>\n",
              "      <td>2021-10-02</td>\n",
              "      <td>Wine Y</td>\n",
              "      <td>2018</td>\n",
              "      <td>Orange</td>\n",
              "      <td>France</td>\n",
              "      <td>98.83</td>\n",
              "      <td>2</td>\n",
              "      <td>79</td>\n",
              "      <td>197.66</td>\n",
              "    </tr>\n",
              "    <tr>\n",
              "      <th>3</th>\n",
              "      <td>2021-06-05</td>\n",
              "      <td>Wine I</td>\n",
              "      <td>1989</td>\n",
              "      <td>Red</td>\n",
              "      <td>Spain</td>\n",
              "      <td>59.64</td>\n",
              "      <td>11</td>\n",
              "      <td>77</td>\n",
              "      <td>656.04</td>\n",
              "    </tr>\n",
              "    <tr>\n",
              "      <th>4</th>\n",
              "      <td>2021-09-06</td>\n",
              "      <td>Wine N</td>\n",
              "      <td>2006</td>\n",
              "      <td>White</td>\n",
              "      <td>Spain</td>\n",
              "      <td>187.70</td>\n",
              "      <td>6</td>\n",
              "      <td>91</td>\n",
              "      <td>1126.20</td>\n",
              "    </tr>\n",
              "    <tr>\n",
              "      <th>5</th>\n",
              "      <td>2021-07-10</td>\n",
              "      <td>Wine O</td>\n",
              "      <td>2020</td>\n",
              "      <td>White</td>\n",
              "      <td>Chile</td>\n",
              "      <td>196.02</td>\n",
              "      <td>13</td>\n",
              "      <td>79</td>\n",
              "      <td>2548.26</td>\n",
              "    </tr>\n",
              "    <tr>\n",
              "      <th>6</th>\n",
              "      <td>2021-11-01</td>\n",
              "      <td>Wine A</td>\n",
              "      <td>2003</td>\n",
              "      <td>Red</td>\n",
              "      <td>USA</td>\n",
              "      <td>464.32</td>\n",
              "      <td>9</td>\n",
              "      <td>99</td>\n",
              "      <td>4178.88</td>\n",
              "    </tr>\n",
              "    <tr>\n",
              "      <th>7</th>\n",
              "      <td>2021-08-22</td>\n",
              "      <td>Wine Y</td>\n",
              "      <td>1994</td>\n",
              "      <td>Orange</td>\n",
              "      <td>Portugal</td>\n",
              "      <td>135.36</td>\n",
              "      <td>11</td>\n",
              "      <td>83</td>\n",
              "      <td>1488.96</td>\n",
              "    </tr>\n",
              "    <tr>\n",
              "      <th>8</th>\n",
              "      <td>2021-03-06</td>\n",
              "      <td>Wine R</td>\n",
              "      <td>2007</td>\n",
              "      <td>Sparkling</td>\n",
              "      <td>Argentina</td>\n",
              "      <td>178.77</td>\n",
              "      <td>14</td>\n",
              "      <td>96</td>\n",
              "      <td>2502.78</td>\n",
              "    </tr>\n",
              "    <tr>\n",
              "      <th>9</th>\n",
              "      <td>2021-04-25</td>\n",
              "      <td>Wine Y</td>\n",
              "      <td>1988</td>\n",
              "      <td>Orange</td>\n",
              "      <td>Italy</td>\n",
              "      <td>70.33</td>\n",
              "      <td>9</td>\n",
              "      <td>95</td>\n",
              "      <td>632.97</td>\n",
              "    </tr>\n",
              "  </tbody>\n",
              "</table>\n",
              "</div>"
            ],
            "text/plain": [
              "        date   label  vintage      style    country   price  quantity  rate  \\\n",
              "0 2021-01-04  Wine K     2002      White   Portugal  144.22         9    97   \n",
              "1 2021-03-11  Wine J     1982        Red   Portugal  244.80         3    76   \n",
              "2 2021-10-02  Wine Y     2018     Orange     France   98.83         2    79   \n",
              "3 2021-06-05  Wine I     1989        Red      Spain   59.64        11    77   \n",
              "4 2021-09-06  Wine N     2006      White      Spain  187.70         6    91   \n",
              "5 2021-07-10  Wine O     2020      White      Chile  196.02        13    79   \n",
              "6 2021-11-01  Wine A     2003        Red        USA  464.32         9    99   \n",
              "7 2021-08-22  Wine Y     1994     Orange   Portugal  135.36        11    83   \n",
              "8 2021-03-06  Wine R     2007  Sparkling  Argentina  178.77        14    96   \n",
              "9 2021-04-25  Wine Y     1988     Orange      Italy   70.33         9    95   \n",
              "\n",
              "   subtotal  \n",
              "0   1297.98  \n",
              "1    734.40  \n",
              "2    197.66  \n",
              "3    656.04  \n",
              "4   1126.20  \n",
              "5   2548.26  \n",
              "6   4178.88  \n",
              "7   1488.96  \n",
              "8   2502.78  \n",
              "9    632.97  "
            ]
          },
          "execution_count": 49,
          "metadata": {},
          "output_type": "execute_result"
        }
      ],
      "source": [
        "df['subtotal'] = df['price'] * df['quantity']\n",
        "df.head(10)"
      ]
    },
    {
      "cell_type": "code",
      "execution_count": null,
      "metadata": {
        "id": "d7VAsVHTcg8Q"
      },
      "outputs": [],
      "source": [
        "wines_df = df[['date', 'label', 'vintage', 'style', 'country',\n",
        "    'price', 'quantity', 'subtotal', 'rate']]"
      ]
    },
    {
      "cell_type": "code",
      "execution_count": null,
      "metadata": {
        "id": "fTbLC0khcg8Q",
        "outputId": "92eb6091-4888-4157-893d-fb2224cccdeb"
      },
      "outputs": [
        {
          "data": {
            "text/html": [
              "<div>\n",
              "<style scoped>\n",
              "    .dataframe tbody tr th:only-of-type {\n",
              "        vertical-align: middle;\n",
              "    }\n",
              "\n",
              "    .dataframe tbody tr th {\n",
              "        vertical-align: top;\n",
              "    }\n",
              "\n",
              "    .dataframe thead th {\n",
              "        text-align: right;\n",
              "    }\n",
              "</style>\n",
              "<table border=\"1\" class=\"dataframe\">\n",
              "  <thead>\n",
              "    <tr style=\"text-align: right;\">\n",
              "      <th></th>\n",
              "      <th>date</th>\n",
              "      <th>label</th>\n",
              "      <th>vintage</th>\n",
              "      <th>style</th>\n",
              "      <th>country</th>\n",
              "      <th>price</th>\n",
              "      <th>quantity</th>\n",
              "      <th>subtotal</th>\n",
              "      <th>rate</th>\n",
              "    </tr>\n",
              "  </thead>\n",
              "  <tbody>\n",
              "    <tr>\n",
              "      <th>0</th>\n",
              "      <td>2021-01-04</td>\n",
              "      <td>Wine K</td>\n",
              "      <td>2002</td>\n",
              "      <td>White</td>\n",
              "      <td>Portugal</td>\n",
              "      <td>144.22</td>\n",
              "      <td>9</td>\n",
              "      <td>1297.98</td>\n",
              "      <td>97</td>\n",
              "    </tr>\n",
              "    <tr>\n",
              "      <th>1</th>\n",
              "      <td>2021-03-11</td>\n",
              "      <td>Wine J</td>\n",
              "      <td>1982</td>\n",
              "      <td>Red</td>\n",
              "      <td>Portugal</td>\n",
              "      <td>244.80</td>\n",
              "      <td>3</td>\n",
              "      <td>734.40</td>\n",
              "      <td>76</td>\n",
              "    </tr>\n",
              "    <tr>\n",
              "      <th>2</th>\n",
              "      <td>2021-10-02</td>\n",
              "      <td>Wine Y</td>\n",
              "      <td>2018</td>\n",
              "      <td>Orange</td>\n",
              "      <td>France</td>\n",
              "      <td>98.83</td>\n",
              "      <td>2</td>\n",
              "      <td>197.66</td>\n",
              "      <td>79</td>\n",
              "    </tr>\n",
              "    <tr>\n",
              "      <th>3</th>\n",
              "      <td>2021-06-05</td>\n",
              "      <td>Wine I</td>\n",
              "      <td>1989</td>\n",
              "      <td>Red</td>\n",
              "      <td>Spain</td>\n",
              "      <td>59.64</td>\n",
              "      <td>11</td>\n",
              "      <td>656.04</td>\n",
              "      <td>77</td>\n",
              "    </tr>\n",
              "    <tr>\n",
              "      <th>4</th>\n",
              "      <td>2021-09-06</td>\n",
              "      <td>Wine N</td>\n",
              "      <td>2006</td>\n",
              "      <td>White</td>\n",
              "      <td>Spain</td>\n",
              "      <td>187.70</td>\n",
              "      <td>6</td>\n",
              "      <td>1126.20</td>\n",
              "      <td>91</td>\n",
              "    </tr>\n",
              "  </tbody>\n",
              "</table>\n",
              "</div>"
            ],
            "text/plain": [
              "        date   label  vintage   style   country   price  quantity  subtotal  \\\n",
              "0 2021-01-04  Wine K     2002   White  Portugal  144.22         9   1297.98   \n",
              "1 2021-03-11  Wine J     1982     Red  Portugal  244.80         3    734.40   \n",
              "2 2021-10-02  Wine Y     2018  Orange    France   98.83         2    197.66   \n",
              "3 2021-06-05  Wine I     1989     Red     Spain   59.64        11    656.04   \n",
              "4 2021-09-06  Wine N     2006   White     Spain  187.70         6   1126.20   \n",
              "\n",
              "   rate  \n",
              "0    97  \n",
              "1    76  \n",
              "2    79  \n",
              "3    77  \n",
              "4    91  "
            ]
          },
          "execution_count": 57,
          "metadata": {},
          "output_type": "execute_result"
        }
      ],
      "source": [
        "wines_df.head()"
      ]
    },
    {
      "cell_type": "code",
      "execution_count": null,
      "metadata": {
        "id": "gxbxvynucg8Q",
        "outputId": "56ab8e73-d74d-431e-bac9-6d8b8875eaa3"
      },
      "outputs": [
        {
          "data": {
            "text/html": [
              "<div>\n",
              "<style scoped>\n",
              "    .dataframe tbody tr th:only-of-type {\n",
              "        vertical-align: middle;\n",
              "    }\n",
              "\n",
              "    .dataframe tbody tr th {\n",
              "        vertical-align: top;\n",
              "    }\n",
              "\n",
              "    .dataframe thead th {\n",
              "        text-align: right;\n",
              "    }\n",
              "</style>\n",
              "<table border=\"1\" class=\"dataframe\">\n",
              "  <thead>\n",
              "    <tr style=\"text-align: right;\">\n",
              "      <th></th>\n",
              "      <th>date</th>\n",
              "      <th>label</th>\n",
              "      <th>vintage</th>\n",
              "      <th>style</th>\n",
              "      <th>country</th>\n",
              "      <th>price</th>\n",
              "      <th>quantity</th>\n",
              "      <th>subtotal</th>\n",
              "      <th>rate</th>\n",
              "    </tr>\n",
              "  </thead>\n",
              "  <tbody>\n",
              "    <tr>\n",
              "      <th>0</th>\n",
              "      <td>2021-01-04</td>\n",
              "      <td>Wine K</td>\n",
              "      <td>2002</td>\n",
              "      <td>White</td>\n",
              "      <td>Portugal</td>\n",
              "      <td>144.22</td>\n",
              "      <td>9</td>\n",
              "      <td>1297.98</td>\n",
              "      <td>97</td>\n",
              "    </tr>\n",
              "    <tr>\n",
              "      <th>1</th>\n",
              "      <td>2021-03-11</td>\n",
              "      <td>Wine J</td>\n",
              "      <td>1982</td>\n",
              "      <td>Red</td>\n",
              "      <td>Portugal</td>\n",
              "      <td>244.80</td>\n",
              "      <td>3</td>\n",
              "      <td>734.40</td>\n",
              "      <td>76</td>\n",
              "    </tr>\n",
              "    <tr>\n",
              "      <th>2</th>\n",
              "      <td>2021-10-02</td>\n",
              "      <td>Wine Y</td>\n",
              "      <td>2018</td>\n",
              "      <td>Orange</td>\n",
              "      <td>France</td>\n",
              "      <td>98.83</td>\n",
              "      <td>2</td>\n",
              "      <td>197.66</td>\n",
              "      <td>79</td>\n",
              "    </tr>\n",
              "    <tr>\n",
              "      <th>3</th>\n",
              "      <td>2021-06-05</td>\n",
              "      <td>Wine I</td>\n",
              "      <td>1989</td>\n",
              "      <td>Red</td>\n",
              "      <td>Spain</td>\n",
              "      <td>59.64</td>\n",
              "      <td>11</td>\n",
              "      <td>656.04</td>\n",
              "      <td>77</td>\n",
              "    </tr>\n",
              "    <tr>\n",
              "      <th>4</th>\n",
              "      <td>2021-09-06</td>\n",
              "      <td>Wine N</td>\n",
              "      <td>2006</td>\n",
              "      <td>White</td>\n",
              "      <td>Spain</td>\n",
              "      <td>187.70</td>\n",
              "      <td>6</td>\n",
              "      <td>1126.20</td>\n",
              "      <td>91</td>\n",
              "    </tr>\n",
              "    <tr>\n",
              "      <th>...</th>\n",
              "      <td>...</td>\n",
              "      <td>...</td>\n",
              "      <td>...</td>\n",
              "      <td>...</td>\n",
              "      <td>...</td>\n",
              "      <td>...</td>\n",
              "      <td>...</td>\n",
              "      <td>...</td>\n",
              "      <td>...</td>\n",
              "    </tr>\n",
              "    <tr>\n",
              "      <th>9995</th>\n",
              "      <td>2021-08-07</td>\n",
              "      <td>Wine S</td>\n",
              "      <td>1983</td>\n",
              "      <td>Rose</td>\n",
              "      <td>France</td>\n",
              "      <td>264.69</td>\n",
              "      <td>6</td>\n",
              "      <td>1588.14</td>\n",
              "      <td>89</td>\n",
              "    </tr>\n",
              "    <tr>\n",
              "      <th>9996</th>\n",
              "      <td>2021-03-03</td>\n",
              "      <td>Wine S</td>\n",
              "      <td>1994</td>\n",
              "      <td>Rose</td>\n",
              "      <td>Spain</td>\n",
              "      <td>55.84</td>\n",
              "      <td>4</td>\n",
              "      <td>223.36</td>\n",
              "      <td>100</td>\n",
              "    </tr>\n",
              "    <tr>\n",
              "      <th>9997</th>\n",
              "      <td>2021-12-28</td>\n",
              "      <td>Wine N</td>\n",
              "      <td>2001</td>\n",
              "      <td>White</td>\n",
              "      <td>Portugal</td>\n",
              "      <td>137.79</td>\n",
              "      <td>13</td>\n",
              "      <td>1791.27</td>\n",
              "      <td>96</td>\n",
              "    </tr>\n",
              "    <tr>\n",
              "      <th>9998</th>\n",
              "      <td>2021-06-19</td>\n",
              "      <td>Wine T</td>\n",
              "      <td>1988</td>\n",
              "      <td>Rose</td>\n",
              "      <td>Italy</td>\n",
              "      <td>100.29</td>\n",
              "      <td>9</td>\n",
              "      <td>902.61</td>\n",
              "      <td>83</td>\n",
              "    </tr>\n",
              "    <tr>\n",
              "      <th>9999</th>\n",
              "      <td>2021-09-18</td>\n",
              "      <td>Wine V</td>\n",
              "      <td>1982</td>\n",
              "      <td>Sweet</td>\n",
              "      <td>Portugal</td>\n",
              "      <td>63.85</td>\n",
              "      <td>13</td>\n",
              "      <td>830.05</td>\n",
              "      <td>100</td>\n",
              "    </tr>\n",
              "  </tbody>\n",
              "</table>\n",
              "<p>10000 rows × 9 columns</p>\n",
              "</div>"
            ],
            "text/plain": [
              "           date   label  vintage   style   country   price  quantity  \\\n",
              "0    2021-01-04  Wine K     2002   White  Portugal  144.22         9   \n",
              "1    2021-03-11  Wine J     1982     Red  Portugal  244.80         3   \n",
              "2    2021-10-02  Wine Y     2018  Orange    France   98.83         2   \n",
              "3    2021-06-05  Wine I     1989     Red     Spain   59.64        11   \n",
              "4    2021-09-06  Wine N     2006   White     Spain  187.70         6   \n",
              "...         ...     ...      ...     ...       ...     ...       ...   \n",
              "9995 2021-08-07  Wine S     1983    Rose    France  264.69         6   \n",
              "9996 2021-03-03  Wine S     1994    Rose     Spain   55.84         4   \n",
              "9997 2021-12-28  Wine N     2001   White  Portugal  137.79        13   \n",
              "9998 2021-06-19  Wine T     1988    Rose     Italy  100.29         9   \n",
              "9999 2021-09-18  Wine V     1982   Sweet  Portugal   63.85        13   \n",
              "\n",
              "      subtotal  rate  \n",
              "0      1297.98    97  \n",
              "1       734.40    76  \n",
              "2       197.66    79  \n",
              "3       656.04    77  \n",
              "4      1126.20    91  \n",
              "...        ...   ...  \n",
              "9995   1588.14    89  \n",
              "9996    223.36   100  \n",
              "9997   1791.27    96  \n",
              "9998    902.61    83  \n",
              "9999    830.05   100  \n",
              "\n",
              "[10000 rows x 9 columns]"
            ]
          },
          "execution_count": 60,
          "metadata": {},
          "output_type": "execute_result"
        }
      ],
      "source": [
        "wines_df.loc[wines_df['date'].dt.year == 2021]"
      ]
    },
    {
      "cell_type": "code",
      "execution_count": null,
      "metadata": {
        "id": "f1KChRC_cg8Q",
        "outputId": "64beb5cd-cfc4-48bb-c299-1fb4c98deb97"
      },
      "outputs": [
        {
          "data": {
            "text/plain": [
              "'O faturamento R$16.991.676,32'"
            ]
          },
          "execution_count": 65,
          "metadata": {},
          "output_type": "execute_result"
        }
      ],
      "source": [
        "f'O faturamento R${faturamento_2021:,.2f}'.translate(str(faturamento_2021).maketrans({',': '.', '.':','}))"
      ]
    },
    {
      "cell_type": "code",
      "execution_count": null,
      "metadata": {
        "id": "_BjfeP_Wcg8Q",
        "outputId": "0a0deae3-bfbd-4262-d528-2d6c4fa8aee7"
      },
      "outputs": [
        {
          "name": "stdout",
          "output_type": "stream",
          "text": [
            "O faturamento R$16,991,676.32\n"
          ]
        }
      ],
      "source": [
        "faturamento_2021 = wines_df['subtotal'].sum()\n",
        "print(f'O faturamento R${faturamento_2021:,.2f}')"
      ]
    },
    {
      "cell_type": "markdown",
      "metadata": {
        "id": "e-4EIEA7qC-h"
      },
      "source": [
        "### 6. Quantas garrafas no total?"
      ]
    },
    {
      "cell_type": "markdown",
      "metadata": {
        "id": "2K8q9KnMqKUa"
      },
      "source": [
        "### 7. Qual vinho teve a maior nota?"
      ]
    },
    {
      "cell_type": "markdown",
      "metadata": {
        "id": "cFH7nJvaqOOI"
      },
      "source": [
        "### 8. Qual vinho teve a menor nota?"
      ]
    },
    {
      "cell_type": "markdown",
      "metadata": {
        "id": "fKLHjpfwqRRS"
      },
      "source": [
        "### 9. Qual a safra mais antiga?"
      ]
    },
    {
      "cell_type": "markdown",
      "metadata": {
        "id": "Y837UBv8qVR7"
      },
      "source": [
        "### 10. Qual a safra mais recente?"
      ]
    },
    {
      "cell_type": "markdown",
      "metadata": {
        "id": "5XicB-MuqY66"
      },
      "source": [
        "### 11. Qual país teve mais garrafa vendida?"
      ]
    },
    {
      "cell_type": "markdown",
      "metadata": {
        "id": "RUq7osguqgxm"
      },
      "source": [
        "### 12. Qual país teve menos menos garrafa vendida?"
      ]
    },
    {
      "cell_type": "markdown",
      "metadata": {
        "id": "_J2VHz1BqmjW"
      },
      "source": [
        "### 13. Quantos vinhos abaixo de R$100,00 foram vendidos?"
      ]
    },
    {
      "cell_type": "markdown",
      "metadata": {
        "id": "n9798Bocq5A7"
      },
      "source": [
        "### 14. Quantos vinhos acima de R$100,00 foram vendidos?"
      ]
    },
    {
      "cell_type": "markdown",
      "metadata": {
        "id": "bN-YBMyAq_7n"
      },
      "source": [
        "### 15. Quantas garrafas de espumantes foram vendidadas no mês de Dezembro?"
      ]
    },
    {
      "cell_type": "markdown",
      "metadata": {
        "id": "vjnN6bTFrKNE"
      },
      "source": [
        "### 16. Quantos vinhos brancos e rosés foram vendidos nos meses de Janeiro à Março?"
      ]
    },
    {
      "cell_type": "markdown",
      "metadata": {
        "id": "A7-r2CXXrU-u"
      },
      "source": [
        "### 17. Qual foi o faturamento do 1º trimestre de 2021?"
      ]
    },
    {
      "cell_type": "markdown",
      "metadata": {
        "id": "l-bS3UO_riNE"
      },
      "source": [
        "### 18. Quantas garrafas de tinto foram vendidas no inverno de 2021?"
      ]
    },
    {
      "cell_type": "markdown",
      "metadata": {
        "id": "3iN2aL9crsrT"
      },
      "source": [
        "__VALE LEMBRAR__ : Inverno de 21 de junho à 20 setembro"
      ]
    },
    {
      "cell_type": "markdown",
      "metadata": {
        "id": "b3YaG71Lrywm"
      },
      "source": [
        "### 19. Quais os 3 meses de maior faturamento?"
      ]
    },
    {
      "cell_type": "markdown",
      "metadata": {
        "id": "mg113G20r4gV"
      },
      "source": [
        "### 20. Qual o ticket médio por mês?"
      ]
    }
  ],
  "metadata": {
    "colab": {
      "provenance": [],
      "include_colab_link": true
    },
    "kernelspec": {
      "display_name": "Python 3 (ipykernel)",
      "language": "python",
      "name": "python3"
    },
    "language_info": {
      "codemirror_mode": {
        "name": "ipython",
        "version": 3
      },
      "file_extension": ".py",
      "mimetype": "text/x-python",
      "name": "python",
      "nbconvert_exporter": "python",
      "pygments_lexer": "ipython3",
      "version": "3.9.12"
    },
    "vscode": {
      "interpreter": {
        "hash": "0d1bf6fad0324f8f4f92e7badae6676788431d565bdb6343419cc04cbc0b7904"
      }
    }
  },
  "nbformat": 4,
  "nbformat_minor": 0
}