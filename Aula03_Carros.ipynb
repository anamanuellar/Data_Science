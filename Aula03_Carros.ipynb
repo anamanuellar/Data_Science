{
  "nbformat": 4,
  "nbformat_minor": 0,
  "metadata": {
    "colab": {
      "provenance": [],
      "include_colab_link": true
    },
    "kernelspec": {
      "name": "python3",
      "display_name": "Python 3"
    },
    "language_info": {
      "name": "python"
    }
  },
  "cells": [
    {
      "cell_type": "markdown",
      "metadata": {
        "id": "view-in-github",
        "colab_type": "text"
      },
      "source": [
        "<a href=\"https://colab.research.google.com/github/anamanuellar/Data_Science/blob/main/Aula03_Carros.ipynb\" target=\"_parent\"><img src=\"https://colab.research.google.com/assets/colab-badge.svg\" alt=\"Open In Colab\"/></a>"
      ]
    },
    {
      "cell_type": "code",
      "execution_count": 130,
      "metadata": {
        "id": "Hn9odV8dp_b9"
      },
      "outputs": [],
      "source": [
        "import pandas as pd\n",
        "\n",
        "df = pd.read_csv(\"OldCars.csv\")"
      ]
    },
    {
      "cell_type": "code",
      "source": [
        "df.head()"
      ],
      "metadata": {
        "colab": {
          "base_uri": "https://localhost:8080/",
          "height": 206
        },
        "id": "_4Rh7l5itpzb",
        "outputId": "5c2d9778-81c1-4afd-e8e0-1f66d9b45792"
      },
      "execution_count": 131,
      "outputs": [
        {
          "output_type": "execute_result",
          "data": {
            "text/plain": [
              "    MPG  Cilindros    Max  Acel   HP  Peso  Ano         Origem  \\\n",
              "0  18.0          8  307.0  12.0  130  3504   70  North America   \n",
              "1  15.0          8  350.0  11.5  165  3693   70  North America   \n",
              "2  18.0          8  318.0  11.0  150  3436   70  North America   \n",
              "3  16.0          8  304.0  12.0  150  3433   70  North America   \n",
              "4  17.0          8  302.0  10.5  140  3449   70  North America   \n",
              "\n",
              "                      Modelo      Marca  \n",
              "0  chevrolet chevelle malibu  chevrolet  \n",
              "1          buick skylark 320      buick  \n",
              "2         plymouth satellite   plymouth  \n",
              "3              amc rebel sst        amc  \n",
              "4                ford torino       ford  "
            ],
            "text/html": [
              "\n",
              "  <div id=\"df-6d795f02-fdc0-4848-ab86-274247ccd1ad\">\n",
              "    <div class=\"colab-df-container\">\n",
              "      <div>\n",
              "<style scoped>\n",
              "    .dataframe tbody tr th:only-of-type {\n",
              "        vertical-align: middle;\n",
              "    }\n",
              "\n",
              "    .dataframe tbody tr th {\n",
              "        vertical-align: top;\n",
              "    }\n",
              "\n",
              "    .dataframe thead th {\n",
              "        text-align: right;\n",
              "    }\n",
              "</style>\n",
              "<table border=\"1\" class=\"dataframe\">\n",
              "  <thead>\n",
              "    <tr style=\"text-align: right;\">\n",
              "      <th></th>\n",
              "      <th>MPG</th>\n",
              "      <th>Cilindros</th>\n",
              "      <th>Max</th>\n",
              "      <th>Acel</th>\n",
              "      <th>HP</th>\n",
              "      <th>Peso</th>\n",
              "      <th>Ano</th>\n",
              "      <th>Origem</th>\n",
              "      <th>Modelo</th>\n",
              "      <th>Marca</th>\n",
              "    </tr>\n",
              "  </thead>\n",
              "  <tbody>\n",
              "    <tr>\n",
              "      <th>0</th>\n",
              "      <td>18.0</td>\n",
              "      <td>8</td>\n",
              "      <td>307.0</td>\n",
              "      <td>12.0</td>\n",
              "      <td>130</td>\n",
              "      <td>3504</td>\n",
              "      <td>70</td>\n",
              "      <td>North America</td>\n",
              "      <td>chevrolet chevelle malibu</td>\n",
              "      <td>chevrolet</td>\n",
              "    </tr>\n",
              "    <tr>\n",
              "      <th>1</th>\n",
              "      <td>15.0</td>\n",
              "      <td>8</td>\n",
              "      <td>350.0</td>\n",
              "      <td>11.5</td>\n",
              "      <td>165</td>\n",
              "      <td>3693</td>\n",
              "      <td>70</td>\n",
              "      <td>North America</td>\n",
              "      <td>buick skylark 320</td>\n",
              "      <td>buick</td>\n",
              "    </tr>\n",
              "    <tr>\n",
              "      <th>2</th>\n",
              "      <td>18.0</td>\n",
              "      <td>8</td>\n",
              "      <td>318.0</td>\n",
              "      <td>11.0</td>\n",
              "      <td>150</td>\n",
              "      <td>3436</td>\n",
              "      <td>70</td>\n",
              "      <td>North America</td>\n",
              "      <td>plymouth satellite</td>\n",
              "      <td>plymouth</td>\n",
              "    </tr>\n",
              "    <tr>\n",
              "      <th>3</th>\n",
              "      <td>16.0</td>\n",
              "      <td>8</td>\n",
              "      <td>304.0</td>\n",
              "      <td>12.0</td>\n",
              "      <td>150</td>\n",
              "      <td>3433</td>\n",
              "      <td>70</td>\n",
              "      <td>North America</td>\n",
              "      <td>amc rebel sst</td>\n",
              "      <td>amc</td>\n",
              "    </tr>\n",
              "    <tr>\n",
              "      <th>4</th>\n",
              "      <td>17.0</td>\n",
              "      <td>8</td>\n",
              "      <td>302.0</td>\n",
              "      <td>10.5</td>\n",
              "      <td>140</td>\n",
              "      <td>3449</td>\n",
              "      <td>70</td>\n",
              "      <td>North America</td>\n",
              "      <td>ford torino</td>\n",
              "      <td>ford</td>\n",
              "    </tr>\n",
              "  </tbody>\n",
              "</table>\n",
              "</div>\n",
              "      <button class=\"colab-df-convert\" onclick=\"convertToInteractive('df-6d795f02-fdc0-4848-ab86-274247ccd1ad')\"\n",
              "              title=\"Convert this dataframe to an interactive table.\"\n",
              "              style=\"display:none;\">\n",
              "        \n",
              "  <svg xmlns=\"http://www.w3.org/2000/svg\" height=\"24px\"viewBox=\"0 0 24 24\"\n",
              "       width=\"24px\">\n",
              "    <path d=\"M0 0h24v24H0V0z\" fill=\"none\"/>\n",
              "    <path d=\"M18.56 5.44l.94 2.06.94-2.06 2.06-.94-2.06-.94-.94-2.06-.94 2.06-2.06.94zm-11 1L8.5 8.5l.94-2.06 2.06-.94-2.06-.94L8.5 2.5l-.94 2.06-2.06.94zm10 10l.94 2.06.94-2.06 2.06-.94-2.06-.94-.94-2.06-.94 2.06-2.06.94z\"/><path d=\"M17.41 7.96l-1.37-1.37c-.4-.4-.92-.59-1.43-.59-.52 0-1.04.2-1.43.59L10.3 9.45l-7.72 7.72c-.78.78-.78 2.05 0 2.83L4 21.41c.39.39.9.59 1.41.59.51 0 1.02-.2 1.41-.59l7.78-7.78 2.81-2.81c.8-.78.8-2.07 0-2.86zM5.41 20L4 18.59l7.72-7.72 1.47 1.35L5.41 20z\"/>\n",
              "  </svg>\n",
              "      </button>\n",
              "      \n",
              "  <style>\n",
              "    .colab-df-container {\n",
              "      display:flex;\n",
              "      flex-wrap:wrap;\n",
              "      gap: 12px;\n",
              "    }\n",
              "\n",
              "    .colab-df-convert {\n",
              "      background-color: #E8F0FE;\n",
              "      border: none;\n",
              "      border-radius: 50%;\n",
              "      cursor: pointer;\n",
              "      display: none;\n",
              "      fill: #1967D2;\n",
              "      height: 32px;\n",
              "      padding: 0 0 0 0;\n",
              "      width: 32px;\n",
              "    }\n",
              "\n",
              "    .colab-df-convert:hover {\n",
              "      background-color: #E2EBFA;\n",
              "      box-shadow: 0px 1px 2px rgba(60, 64, 67, 0.3), 0px 1px 3px 1px rgba(60, 64, 67, 0.15);\n",
              "      fill: #174EA6;\n",
              "    }\n",
              "\n",
              "    [theme=dark] .colab-df-convert {\n",
              "      background-color: #3B4455;\n",
              "      fill: #D2E3FC;\n",
              "    }\n",
              "\n",
              "    [theme=dark] .colab-df-convert:hover {\n",
              "      background-color: #434B5C;\n",
              "      box-shadow: 0px 1px 3px 1px rgba(0, 0, 0, 0.15);\n",
              "      filter: drop-shadow(0px 1px 2px rgba(0, 0, 0, 0.3));\n",
              "      fill: #FFFFFF;\n",
              "    }\n",
              "  </style>\n",
              "\n",
              "      <script>\n",
              "        const buttonEl =\n",
              "          document.querySelector('#df-6d795f02-fdc0-4848-ab86-274247ccd1ad button.colab-df-convert');\n",
              "        buttonEl.style.display =\n",
              "          google.colab.kernel.accessAllowed ? 'block' : 'none';\n",
              "\n",
              "        async function convertToInteractive(key) {\n",
              "          const element = document.querySelector('#df-6d795f02-fdc0-4848-ab86-274247ccd1ad');\n",
              "          const dataTable =\n",
              "            await google.colab.kernel.invokeFunction('convertToInteractive',\n",
              "                                                     [key], {});\n",
              "          if (!dataTable) return;\n",
              "\n",
              "          const docLinkHtml = 'Like what you see? Visit the ' +\n",
              "            '<a target=\"_blank\" href=https://colab.research.google.com/notebooks/data_table.ipynb>data table notebook</a>'\n",
              "            + ' to learn more about interactive tables.';\n",
              "          element.innerHTML = '';\n",
              "          dataTable['output_type'] = 'display_data';\n",
              "          await google.colab.output.renderOutput(dataTable, element);\n",
              "          const docLink = document.createElement('div');\n",
              "          docLink.innerHTML = docLinkHtml;\n",
              "          element.appendChild(docLink);\n",
              "        }\n",
              "      </script>\n",
              "    </div>\n",
              "  </div>\n",
              "  "
            ]
          },
          "metadata": {},
          "execution_count": 131
        }
      ]
    },
    {
      "cell_type": "code",
      "source": [
        "df.info()"
      ],
      "metadata": {
        "colab": {
          "base_uri": "https://localhost:8080/"
        },
        "id": "10dZScT6t0E4",
        "outputId": "4b6a337f-e436-4fee-e4f0-d1cc23e142e3"
      },
      "execution_count": 132,
      "outputs": [
        {
          "output_type": "stream",
          "name": "stdout",
          "text": [
            "<class 'pandas.core.frame.DataFrame'>\n",
            "RangeIndex: 392 entries, 0 to 391\n",
            "Data columns (total 10 columns):\n",
            " #   Column     Non-Null Count  Dtype  \n",
            "---  ------     --------------  -----  \n",
            " 0   MPG        392 non-null    float64\n",
            " 1   Cilindros  392 non-null    int64  \n",
            " 2   Max        392 non-null    float64\n",
            " 3   Acel       392 non-null    float64\n",
            " 4   HP         392 non-null    int64  \n",
            " 5   Peso       392 non-null    int64  \n",
            " 6   Ano        392 non-null    int64  \n",
            " 7   Origem     392 non-null    object \n",
            " 8   Modelo     392 non-null    object \n",
            " 9   Marca      392 non-null    object \n",
            "dtypes: float64(3), int64(4), object(3)\n",
            "memory usage: 30.8+ KB\n"
          ]
        }
      ]
    },
    {
      "cell_type": "code",
      "source": [
        "df.columns"
      ],
      "metadata": {
        "colab": {
          "base_uri": "https://localhost:8080/"
        },
        "id": "QKutoUaguMj1",
        "outputId": "33c1b7da-38b6-45ba-a41b-9d7fd654ec0e"
      },
      "execution_count": 135,
      "outputs": [
        {
          "output_type": "execute_result",
          "data": {
            "text/plain": [
              "Index(['MPG', 'Cilindros', 'Max', 'Acel', 'HP', 'Peso', 'Ano', 'Origem',\n",
              "       'Modelo', 'Marca'],\n",
              "      dtype='object')"
            ]
          },
          "metadata": {},
          "execution_count": 135
        }
      ]
    },
    {
      "cell_type": "code",
      "source": [
        "df['MPG'] = pd.to_numeric(df['MPG'], downcast='float')"
      ],
      "metadata": {
        "id": "wY-Ka6pGwgTO"
      },
      "execution_count": 136,
      "outputs": []
    },
    {
      "cell_type": "code",
      "source": [
        "df['Max'] = pd.to_numeric(df['Max'], downcast='float')"
      ],
      "metadata": {
        "id": "1qG7L5wILOmc"
      },
      "execution_count": 137,
      "outputs": []
    },
    {
      "cell_type": "code",
      "source": [
        "df['Cilindros'] = df['Cilindros'].astype('int16') #Converter em int16"
      ],
      "metadata": {
        "id": "LTSJ4yAgyam9"
      },
      "execution_count": 138,
      "outputs": []
    },
    {
      "cell_type": "code",
      "source": [
        "df.info()"
      ],
      "metadata": {
        "colab": {
          "base_uri": "https://localhost:8080/"
        },
        "id": "fid4D0DBxxP6",
        "outputId": "215dcf56-ed71-4efe-b014-37f6a12fd5db"
      },
      "execution_count": 139,
      "outputs": [
        {
          "output_type": "stream",
          "name": "stdout",
          "text": [
            "<class 'pandas.core.frame.DataFrame'>\n",
            "RangeIndex: 392 entries, 0 to 391\n",
            "Data columns (total 10 columns):\n",
            " #   Column     Non-Null Count  Dtype  \n",
            "---  ------     --------------  -----  \n",
            " 0   MPG        392 non-null    float32\n",
            " 1   Cilindros  392 non-null    int16  \n",
            " 2   Max        392 non-null    float32\n",
            " 3   Acel       392 non-null    float64\n",
            " 4   HP         392 non-null    int64  \n",
            " 5   Peso       392 non-null    int64  \n",
            " 6   Ano        392 non-null    int64  \n",
            " 7   Origem     392 non-null    object \n",
            " 8   Modelo     392 non-null    object \n",
            " 9   Marca      392 non-null    object \n",
            "dtypes: float32(2), float64(1), int16(1), int64(3), object(3)\n",
            "memory usage: 25.4+ KB\n"
          ]
        }
      ]
    },
    {
      "cell_type": "code",
      "source": [
        "df['KmL'] = df['MPG']*0.42"
      ],
      "metadata": {
        "id": "-NGsIWpbPmLI"
      },
      "execution_count": 140,
      "outputs": []
    },
    {
      "cell_type": "code",
      "source": [
        "df.head(10)"
      ],
      "metadata": {
        "colab": {
          "base_uri": "https://localhost:8080/",
          "height": 363
        },
        "id": "Oo0OoVA4zPv3",
        "outputId": "846588b7-b773-46a9-fe0e-9f83d588d1b4"
      },
      "execution_count": 141,
      "outputs": [
        {
          "output_type": "execute_result",
          "data": {
            "text/plain": [
              "    MPG  Cilindros    Max  Acel   HP  Peso  Ano         Origem  \\\n",
              "0  18.0          8  307.0  12.0  130  3504   70  North America   \n",
              "1  15.0          8  350.0  11.5  165  3693   70  North America   \n",
              "2  18.0          8  318.0  11.0  150  3436   70  North America   \n",
              "3  16.0          8  304.0  12.0  150  3433   70  North America   \n",
              "4  17.0          8  302.0  10.5  140  3449   70  North America   \n",
              "5  15.0          8  429.0  10.0  198  4341   70  North America   \n",
              "6  14.0          8  454.0   9.0  220  4354   70  North America   \n",
              "7  14.0          8  440.0   8.5  215  4312   70  North America   \n",
              "8  14.0          8  455.0  10.0  225  4425   70  North America   \n",
              "9  15.0          8  390.0   8.5  190  3850   70  North America   \n",
              "\n",
              "                      Modelo      Marca   KmL  \n",
              "0  chevrolet chevelle malibu  chevrolet  7.56  \n",
              "1          buick skylark 320      buick  6.30  \n",
              "2         plymouth satellite   plymouth  7.56  \n",
              "3              amc rebel sst        amc  6.72  \n",
              "4                ford torino       ford  7.14  \n",
              "5           ford galaxie 500       ford  6.30  \n",
              "6           chevrolet impala  chevrolet  5.88  \n",
              "7          plymouth fury iii   plymouth  5.88  \n",
              "8           pontiac catalina    pontiac  5.88  \n",
              "9         amc ambassador dpl        amc  6.30  "
            ],
            "text/html": [
              "\n",
              "  <div id=\"df-5da35591-eb51-4efd-a079-6a5641a36c0c\">\n",
              "    <div class=\"colab-df-container\">\n",
              "      <div>\n",
              "<style scoped>\n",
              "    .dataframe tbody tr th:only-of-type {\n",
              "        vertical-align: middle;\n",
              "    }\n",
              "\n",
              "    .dataframe tbody tr th {\n",
              "        vertical-align: top;\n",
              "    }\n",
              "\n",
              "    .dataframe thead th {\n",
              "        text-align: right;\n",
              "    }\n",
              "</style>\n",
              "<table border=\"1\" class=\"dataframe\">\n",
              "  <thead>\n",
              "    <tr style=\"text-align: right;\">\n",
              "      <th></th>\n",
              "      <th>MPG</th>\n",
              "      <th>Cilindros</th>\n",
              "      <th>Max</th>\n",
              "      <th>Acel</th>\n",
              "      <th>HP</th>\n",
              "      <th>Peso</th>\n",
              "      <th>Ano</th>\n",
              "      <th>Origem</th>\n",
              "      <th>Modelo</th>\n",
              "      <th>Marca</th>\n",
              "      <th>KmL</th>\n",
              "    </tr>\n",
              "  </thead>\n",
              "  <tbody>\n",
              "    <tr>\n",
              "      <th>0</th>\n",
              "      <td>18.0</td>\n",
              "      <td>8</td>\n",
              "      <td>307.0</td>\n",
              "      <td>12.0</td>\n",
              "      <td>130</td>\n",
              "      <td>3504</td>\n",
              "      <td>70</td>\n",
              "      <td>North America</td>\n",
              "      <td>chevrolet chevelle malibu</td>\n",
              "      <td>chevrolet</td>\n",
              "      <td>7.56</td>\n",
              "    </tr>\n",
              "    <tr>\n",
              "      <th>1</th>\n",
              "      <td>15.0</td>\n",
              "      <td>8</td>\n",
              "      <td>350.0</td>\n",
              "      <td>11.5</td>\n",
              "      <td>165</td>\n",
              "      <td>3693</td>\n",
              "      <td>70</td>\n",
              "      <td>North America</td>\n",
              "      <td>buick skylark 320</td>\n",
              "      <td>buick</td>\n",
              "      <td>6.30</td>\n",
              "    </tr>\n",
              "    <tr>\n",
              "      <th>2</th>\n",
              "      <td>18.0</td>\n",
              "      <td>8</td>\n",
              "      <td>318.0</td>\n",
              "      <td>11.0</td>\n",
              "      <td>150</td>\n",
              "      <td>3436</td>\n",
              "      <td>70</td>\n",
              "      <td>North America</td>\n",
              "      <td>plymouth satellite</td>\n",
              "      <td>plymouth</td>\n",
              "      <td>7.56</td>\n",
              "    </tr>\n",
              "    <tr>\n",
              "      <th>3</th>\n",
              "      <td>16.0</td>\n",
              "      <td>8</td>\n",
              "      <td>304.0</td>\n",
              "      <td>12.0</td>\n",
              "      <td>150</td>\n",
              "      <td>3433</td>\n",
              "      <td>70</td>\n",
              "      <td>North America</td>\n",
              "      <td>amc rebel sst</td>\n",
              "      <td>amc</td>\n",
              "      <td>6.72</td>\n",
              "    </tr>\n",
              "    <tr>\n",
              "      <th>4</th>\n",
              "      <td>17.0</td>\n",
              "      <td>8</td>\n",
              "      <td>302.0</td>\n",
              "      <td>10.5</td>\n",
              "      <td>140</td>\n",
              "      <td>3449</td>\n",
              "      <td>70</td>\n",
              "      <td>North America</td>\n",
              "      <td>ford torino</td>\n",
              "      <td>ford</td>\n",
              "      <td>7.14</td>\n",
              "    </tr>\n",
              "    <tr>\n",
              "      <th>5</th>\n",
              "      <td>15.0</td>\n",
              "      <td>8</td>\n",
              "      <td>429.0</td>\n",
              "      <td>10.0</td>\n",
              "      <td>198</td>\n",
              "      <td>4341</td>\n",
              "      <td>70</td>\n",
              "      <td>North America</td>\n",
              "      <td>ford galaxie 500</td>\n",
              "      <td>ford</td>\n",
              "      <td>6.30</td>\n",
              "    </tr>\n",
              "    <tr>\n",
              "      <th>6</th>\n",
              "      <td>14.0</td>\n",
              "      <td>8</td>\n",
              "      <td>454.0</td>\n",
              "      <td>9.0</td>\n",
              "      <td>220</td>\n",
              "      <td>4354</td>\n",
              "      <td>70</td>\n",
              "      <td>North America</td>\n",
              "      <td>chevrolet impala</td>\n",
              "      <td>chevrolet</td>\n",
              "      <td>5.88</td>\n",
              "    </tr>\n",
              "    <tr>\n",
              "      <th>7</th>\n",
              "      <td>14.0</td>\n",
              "      <td>8</td>\n",
              "      <td>440.0</td>\n",
              "      <td>8.5</td>\n",
              "      <td>215</td>\n",
              "      <td>4312</td>\n",
              "      <td>70</td>\n",
              "      <td>North America</td>\n",
              "      <td>plymouth fury iii</td>\n",
              "      <td>plymouth</td>\n",
              "      <td>5.88</td>\n",
              "    </tr>\n",
              "    <tr>\n",
              "      <th>8</th>\n",
              "      <td>14.0</td>\n",
              "      <td>8</td>\n",
              "      <td>455.0</td>\n",
              "      <td>10.0</td>\n",
              "      <td>225</td>\n",
              "      <td>4425</td>\n",
              "      <td>70</td>\n",
              "      <td>North America</td>\n",
              "      <td>pontiac catalina</td>\n",
              "      <td>pontiac</td>\n",
              "      <td>5.88</td>\n",
              "    </tr>\n",
              "    <tr>\n",
              "      <th>9</th>\n",
              "      <td>15.0</td>\n",
              "      <td>8</td>\n",
              "      <td>390.0</td>\n",
              "      <td>8.5</td>\n",
              "      <td>190</td>\n",
              "      <td>3850</td>\n",
              "      <td>70</td>\n",
              "      <td>North America</td>\n",
              "      <td>amc ambassador dpl</td>\n",
              "      <td>amc</td>\n",
              "      <td>6.30</td>\n",
              "    </tr>\n",
              "  </tbody>\n",
              "</table>\n",
              "</div>\n",
              "      <button class=\"colab-df-convert\" onclick=\"convertToInteractive('df-5da35591-eb51-4efd-a079-6a5641a36c0c')\"\n",
              "              title=\"Convert this dataframe to an interactive table.\"\n",
              "              style=\"display:none;\">\n",
              "        \n",
              "  <svg xmlns=\"http://www.w3.org/2000/svg\" height=\"24px\"viewBox=\"0 0 24 24\"\n",
              "       width=\"24px\">\n",
              "    <path d=\"M0 0h24v24H0V0z\" fill=\"none\"/>\n",
              "    <path d=\"M18.56 5.44l.94 2.06.94-2.06 2.06-.94-2.06-.94-.94-2.06-.94 2.06-2.06.94zm-11 1L8.5 8.5l.94-2.06 2.06-.94-2.06-.94L8.5 2.5l-.94 2.06-2.06.94zm10 10l.94 2.06.94-2.06 2.06-.94-2.06-.94-.94-2.06-.94 2.06-2.06.94z\"/><path d=\"M17.41 7.96l-1.37-1.37c-.4-.4-.92-.59-1.43-.59-.52 0-1.04.2-1.43.59L10.3 9.45l-7.72 7.72c-.78.78-.78 2.05 0 2.83L4 21.41c.39.39.9.59 1.41.59.51 0 1.02-.2 1.41-.59l7.78-7.78 2.81-2.81c.8-.78.8-2.07 0-2.86zM5.41 20L4 18.59l7.72-7.72 1.47 1.35L5.41 20z\"/>\n",
              "  </svg>\n",
              "      </button>\n",
              "      \n",
              "  <style>\n",
              "    .colab-df-container {\n",
              "      display:flex;\n",
              "      flex-wrap:wrap;\n",
              "      gap: 12px;\n",
              "    }\n",
              "\n",
              "    .colab-df-convert {\n",
              "      background-color: #E8F0FE;\n",
              "      border: none;\n",
              "      border-radius: 50%;\n",
              "      cursor: pointer;\n",
              "      display: none;\n",
              "      fill: #1967D2;\n",
              "      height: 32px;\n",
              "      padding: 0 0 0 0;\n",
              "      width: 32px;\n",
              "    }\n",
              "\n",
              "    .colab-df-convert:hover {\n",
              "      background-color: #E2EBFA;\n",
              "      box-shadow: 0px 1px 2px rgba(60, 64, 67, 0.3), 0px 1px 3px 1px rgba(60, 64, 67, 0.15);\n",
              "      fill: #174EA6;\n",
              "    }\n",
              "\n",
              "    [theme=dark] .colab-df-convert {\n",
              "      background-color: #3B4455;\n",
              "      fill: #D2E3FC;\n",
              "    }\n",
              "\n",
              "    [theme=dark] .colab-df-convert:hover {\n",
              "      background-color: #434B5C;\n",
              "      box-shadow: 0px 1px 3px 1px rgba(0, 0, 0, 0.15);\n",
              "      filter: drop-shadow(0px 1px 2px rgba(0, 0, 0, 0.3));\n",
              "      fill: #FFFFFF;\n",
              "    }\n",
              "  </style>\n",
              "\n",
              "      <script>\n",
              "        const buttonEl =\n",
              "          document.querySelector('#df-5da35591-eb51-4efd-a079-6a5641a36c0c button.colab-df-convert');\n",
              "        buttonEl.style.display =\n",
              "          google.colab.kernel.accessAllowed ? 'block' : 'none';\n",
              "\n",
              "        async function convertToInteractive(key) {\n",
              "          const element = document.querySelector('#df-5da35591-eb51-4efd-a079-6a5641a36c0c');\n",
              "          const dataTable =\n",
              "            await google.colab.kernel.invokeFunction('convertToInteractive',\n",
              "                                                     [key], {});\n",
              "          if (!dataTable) return;\n",
              "\n",
              "          const docLinkHtml = 'Like what you see? Visit the ' +\n",
              "            '<a target=\"_blank\" href=https://colab.research.google.com/notebooks/data_table.ipynb>data table notebook</a>'\n",
              "            + ' to learn more about interactive tables.';\n",
              "          element.innerHTML = '';\n",
              "          dataTable['output_type'] = 'display_data';\n",
              "          await google.colab.output.renderOutput(dataTable, element);\n",
              "          const docLink = document.createElement('div');\n",
              "          docLink.innerHTML = docLinkHtml;\n",
              "          element.appendChild(docLink);\n",
              "        }\n",
              "      </script>\n",
              "    </div>\n",
              "  </div>\n",
              "  "
            ]
          },
          "metadata": {},
          "execution_count": 141
        }
      ]
    },
    {
      "cell_type": "code",
      "source": [
        "df[['Peso', 'Ano']].describe()"
      ],
      "metadata": {
        "colab": {
          "base_uri": "https://localhost:8080/",
          "height": 300
        },
        "id": "EQ0rSxcZ1zE9",
        "outputId": "d0cb4ab8-7312-40a3-a7ff-9f4c06289c2f"
      },
      "execution_count": 142,
      "outputs": [
        {
          "output_type": "execute_result",
          "data": {
            "text/plain": [
              "              Peso         Ano\n",
              "count   392.000000  392.000000\n",
              "mean   2977.584184   75.979592\n",
              "std     849.402560    3.683737\n",
              "min    1613.000000   70.000000\n",
              "25%    2225.250000   73.000000\n",
              "50%    2803.500000   76.000000\n",
              "75%    3614.750000   79.000000\n",
              "max    5140.000000   82.000000"
            ],
            "text/html": [
              "\n",
              "  <div id=\"df-cc615a11-1dd0-4200-ae0b-42b2d234cf02\">\n",
              "    <div class=\"colab-df-container\">\n",
              "      <div>\n",
              "<style scoped>\n",
              "    .dataframe tbody tr th:only-of-type {\n",
              "        vertical-align: middle;\n",
              "    }\n",
              "\n",
              "    .dataframe tbody tr th {\n",
              "        vertical-align: top;\n",
              "    }\n",
              "\n",
              "    .dataframe thead th {\n",
              "        text-align: right;\n",
              "    }\n",
              "</style>\n",
              "<table border=\"1\" class=\"dataframe\">\n",
              "  <thead>\n",
              "    <tr style=\"text-align: right;\">\n",
              "      <th></th>\n",
              "      <th>Peso</th>\n",
              "      <th>Ano</th>\n",
              "    </tr>\n",
              "  </thead>\n",
              "  <tbody>\n",
              "    <tr>\n",
              "      <th>count</th>\n",
              "      <td>392.000000</td>\n",
              "      <td>392.000000</td>\n",
              "    </tr>\n",
              "    <tr>\n",
              "      <th>mean</th>\n",
              "      <td>2977.584184</td>\n",
              "      <td>75.979592</td>\n",
              "    </tr>\n",
              "    <tr>\n",
              "      <th>std</th>\n",
              "      <td>849.402560</td>\n",
              "      <td>3.683737</td>\n",
              "    </tr>\n",
              "    <tr>\n",
              "      <th>min</th>\n",
              "      <td>1613.000000</td>\n",
              "      <td>70.000000</td>\n",
              "    </tr>\n",
              "    <tr>\n",
              "      <th>25%</th>\n",
              "      <td>2225.250000</td>\n",
              "      <td>73.000000</td>\n",
              "    </tr>\n",
              "    <tr>\n",
              "      <th>50%</th>\n",
              "      <td>2803.500000</td>\n",
              "      <td>76.000000</td>\n",
              "    </tr>\n",
              "    <tr>\n",
              "      <th>75%</th>\n",
              "      <td>3614.750000</td>\n",
              "      <td>79.000000</td>\n",
              "    </tr>\n",
              "    <tr>\n",
              "      <th>max</th>\n",
              "      <td>5140.000000</td>\n",
              "      <td>82.000000</td>\n",
              "    </tr>\n",
              "  </tbody>\n",
              "</table>\n",
              "</div>\n",
              "      <button class=\"colab-df-convert\" onclick=\"convertToInteractive('df-cc615a11-1dd0-4200-ae0b-42b2d234cf02')\"\n",
              "              title=\"Convert this dataframe to an interactive table.\"\n",
              "              style=\"display:none;\">\n",
              "        \n",
              "  <svg xmlns=\"http://www.w3.org/2000/svg\" height=\"24px\"viewBox=\"0 0 24 24\"\n",
              "       width=\"24px\">\n",
              "    <path d=\"M0 0h24v24H0V0z\" fill=\"none\"/>\n",
              "    <path d=\"M18.56 5.44l.94 2.06.94-2.06 2.06-.94-2.06-.94-.94-2.06-.94 2.06-2.06.94zm-11 1L8.5 8.5l.94-2.06 2.06-.94-2.06-.94L8.5 2.5l-.94 2.06-2.06.94zm10 10l.94 2.06.94-2.06 2.06-.94-2.06-.94-.94-2.06-.94 2.06-2.06.94z\"/><path d=\"M17.41 7.96l-1.37-1.37c-.4-.4-.92-.59-1.43-.59-.52 0-1.04.2-1.43.59L10.3 9.45l-7.72 7.72c-.78.78-.78 2.05 0 2.83L4 21.41c.39.39.9.59 1.41.59.51 0 1.02-.2 1.41-.59l7.78-7.78 2.81-2.81c.8-.78.8-2.07 0-2.86zM5.41 20L4 18.59l7.72-7.72 1.47 1.35L5.41 20z\"/>\n",
              "  </svg>\n",
              "      </button>\n",
              "      \n",
              "  <style>\n",
              "    .colab-df-container {\n",
              "      display:flex;\n",
              "      flex-wrap:wrap;\n",
              "      gap: 12px;\n",
              "    }\n",
              "\n",
              "    .colab-df-convert {\n",
              "      background-color: #E8F0FE;\n",
              "      border: none;\n",
              "      border-radius: 50%;\n",
              "      cursor: pointer;\n",
              "      display: none;\n",
              "      fill: #1967D2;\n",
              "      height: 32px;\n",
              "      padding: 0 0 0 0;\n",
              "      width: 32px;\n",
              "    }\n",
              "\n",
              "    .colab-df-convert:hover {\n",
              "      background-color: #E2EBFA;\n",
              "      box-shadow: 0px 1px 2px rgba(60, 64, 67, 0.3), 0px 1px 3px 1px rgba(60, 64, 67, 0.15);\n",
              "      fill: #174EA6;\n",
              "    }\n",
              "\n",
              "    [theme=dark] .colab-df-convert {\n",
              "      background-color: #3B4455;\n",
              "      fill: #D2E3FC;\n",
              "    }\n",
              "\n",
              "    [theme=dark] .colab-df-convert:hover {\n",
              "      background-color: #434B5C;\n",
              "      box-shadow: 0px 1px 3px 1px rgba(0, 0, 0, 0.15);\n",
              "      filter: drop-shadow(0px 1px 2px rgba(0, 0, 0, 0.3));\n",
              "      fill: #FFFFFF;\n",
              "    }\n",
              "  </style>\n",
              "\n",
              "      <script>\n",
              "        const buttonEl =\n",
              "          document.querySelector('#df-cc615a11-1dd0-4200-ae0b-42b2d234cf02 button.colab-df-convert');\n",
              "        buttonEl.style.display =\n",
              "          google.colab.kernel.accessAllowed ? 'block' : 'none';\n",
              "\n",
              "        async function convertToInteractive(key) {\n",
              "          const element = document.querySelector('#df-cc615a11-1dd0-4200-ae0b-42b2d234cf02');\n",
              "          const dataTable =\n",
              "            await google.colab.kernel.invokeFunction('convertToInteractive',\n",
              "                                                     [key], {});\n",
              "          if (!dataTable) return;\n",
              "\n",
              "          const docLinkHtml = 'Like what you see? Visit the ' +\n",
              "            '<a target=\"_blank\" href=https://colab.research.google.com/notebooks/data_table.ipynb>data table notebook</a>'\n",
              "            + ' to learn more about interactive tables.';\n",
              "          element.innerHTML = '';\n",
              "          dataTable['output_type'] = 'display_data';\n",
              "          await google.colab.output.renderOutput(dataTable, element);\n",
              "          const docLink = document.createElement('div');\n",
              "          docLink.innerHTML = docLinkHtml;\n",
              "          element.appendChild(docLink);\n",
              "        }\n",
              "      </script>\n",
              "    </div>\n",
              "  </div>\n",
              "  "
            ]
          },
          "metadata": {},
          "execution_count": 142
        }
      ]
    },
    {
      "cell_type": "code",
      "source": [
        "#Shape retorna uma tupla com a quantidade de linhas e colunas\n",
        "df.shape\n"
      ],
      "metadata": {
        "colab": {
          "base_uri": "https://localhost:8080/"
        },
        "id": "mbIzB8o92tYf",
        "outputId": "c21ca08e-5c65-4135-fd72-26aabf75b48e"
      },
      "execution_count": 143,
      "outputs": [
        {
          "output_type": "execute_result",
          "data": {
            "text/plain": [
              "(392, 11)"
            ]
          },
          "metadata": {},
          "execution_count": 143
        }
      ]
    },
    {
      "cell_type": "code",
      "source": [
        "df.shape[1] #Colocando o índice, ele vai mostrar apenas a informação solicitada. 0 = linha, 1 = coluna"
      ],
      "metadata": {
        "colab": {
          "base_uri": "https://localhost:8080/"
        },
        "id": "vSDHgxz73buN",
        "outputId": "c76adf99-ac80-4486-f918-0d3ab4f6e651"
      },
      "execution_count": 144,
      "outputs": [
        {
          "output_type": "execute_result",
          "data": {
            "text/plain": [
              "11"
            ]
          },
          "metadata": {},
          "execution_count": 144
        }
      ]
    },
    {
      "cell_type": "code",
      "source": [
        "print(f'Nosso dataset tem o total de {df.shape[0]} linhas') #Podemos usar o printpara deixar o código mais claro"
      ],
      "metadata": {
        "colab": {
          "base_uri": "https://localhost:8080/"
        },
        "id": "kLSoNl313f7m",
        "outputId": "855a7a4d-770c-469f-a5ab-170b789a9e2e"
      },
      "execution_count": 145,
      "outputs": [
        {
          "output_type": "stream",
          "name": "stdout",
          "text": [
            "Nosso dataset tem o total de 392 linhas\n"
          ]
        }
      ]
    },
    {
      "cell_type": "code",
      "source": [
        "df['Marca'].unique() #Descobrir os valores únicos de uma coluna"
      ],
      "metadata": {
        "colab": {
          "base_uri": "https://localhost:8080/"
        },
        "id": "vdNenvVT36ms",
        "outputId": "f78382fb-bb5e-4400-cb3a-d14941212620"
      },
      "execution_count": 146,
      "outputs": [
        {
          "output_type": "execute_result",
          "data": {
            "text/plain": [
              "array(['chevrolet', 'buick', 'plymouth', 'amc', 'ford', 'pontiac',\n",
              "       'dodge', 'toyota', 'datsun', 'volkswagen', 'peugeot', 'audi',\n",
              "       'saab', 'bmw', 'hi', 'mercury', 'opel', 'fiat', 'oldsmobile',\n",
              "       'chrysler', 'mazda', 'volvo', 'renault', 'honda', 'subaru',\n",
              "       'capri', 'mercedes', 'cadillac', 'triumph', 'nissan'], dtype=object)"
            ]
          },
          "metadata": {},
          "execution_count": 146
        }
      ]
    },
    {
      "cell_type": "code",
      "source": [
        "df['Ano'].unique()"
      ],
      "metadata": {
        "colab": {
          "base_uri": "https://localhost:8080/"
        },
        "id": "b4_WUWNB5NGs",
        "outputId": "43b59319-4a73-43a9-d004-39b4951b82c3"
      },
      "execution_count": 147,
      "outputs": [
        {
          "output_type": "execute_result",
          "data": {
            "text/plain": [
              "array([70, 71, 72, 73, 74, 75, 76, 77, 78, 79, 80, 81, 82])"
            ]
          },
          "metadata": {},
          "execution_count": 147
        }
      ]
    },
    {
      "cell_type": "code",
      "source": [
        "df.columns"
      ],
      "metadata": {
        "colab": {
          "base_uri": "https://localhost:8080/"
        },
        "id": "WmU0IgHu6ZV7",
        "outputId": "5e7e549b-9172-4c3a-f55a-fd680dfaa3f6"
      },
      "execution_count": 148,
      "outputs": [
        {
          "output_type": "execute_result",
          "data": {
            "text/plain": [
              "Index(['MPG', 'Cilindros', 'Max', 'Acel', 'HP', 'Peso', 'Ano', 'Origem',\n",
              "       'Modelo', 'Marca', 'KmL'],\n",
              "      dtype='object')"
            ]
          },
          "metadata": {},
          "execution_count": 148
        }
      ]
    },
    {
      "cell_type": "code",
      "source": [],
      "metadata": {
        "id": "45aVrOqeWh6n"
      },
      "execution_count": null,
      "outputs": []
    },
    {
      "cell_type": "code",
      "source": [
        "old_name1 = list(df.columns)\n",
        "new_name = list(map( lambda coluna : coluna+'_'+str(old_name1.index(coluna)+1)+'_', old_name1))\n",
        "df.columns=new_name"
      ],
      "metadata": {
        "id": "NWEFo5SJWh4y"
      },
      "execution_count": 149,
      "outputs": []
    },
    {
      "cell_type": "code",
      "source": [
        "df.head(5)"
      ],
      "metadata": {
        "colab": {
          "base_uri": "https://localhost:8080/",
          "height": 206
        },
        "id": "TrmyLxW7SiNW",
        "outputId": "f2239b3d-5f7e-4e72-bf02-c377adc1d59d"
      },
      "execution_count": 150,
      "outputs": [
        {
          "output_type": "execute_result",
          "data": {
            "text/plain": [
              "   MPG_1_  Cilindros_2_  Max_3_  Acel_4_  HP_5_  Peso_6_  Ano_7_  \\\n",
              "0    18.0             8   307.0     12.0    130     3504      70   \n",
              "1    15.0             8   350.0     11.5    165     3693      70   \n",
              "2    18.0             8   318.0     11.0    150     3436      70   \n",
              "3    16.0             8   304.0     12.0    150     3433      70   \n",
              "4    17.0             8   302.0     10.5    140     3449      70   \n",
              "\n",
              "       Origem_8_                  Modelo_9_  Marca_10_  KmL_11_  \n",
              "0  North America  chevrolet chevelle malibu  chevrolet     7.56  \n",
              "1  North America          buick skylark 320      buick     6.30  \n",
              "2  North America         plymouth satellite   plymouth     7.56  \n",
              "3  North America              amc rebel sst        amc     6.72  \n",
              "4  North America                ford torino       ford     7.14  "
            ],
            "text/html": [
              "\n",
              "  <div id=\"df-07ed098c-725f-4ad0-92f4-3eb89ffe663f\">\n",
              "    <div class=\"colab-df-container\">\n",
              "      <div>\n",
              "<style scoped>\n",
              "    .dataframe tbody tr th:only-of-type {\n",
              "        vertical-align: middle;\n",
              "    }\n",
              "\n",
              "    .dataframe tbody tr th {\n",
              "        vertical-align: top;\n",
              "    }\n",
              "\n",
              "    .dataframe thead th {\n",
              "        text-align: right;\n",
              "    }\n",
              "</style>\n",
              "<table border=\"1\" class=\"dataframe\">\n",
              "  <thead>\n",
              "    <tr style=\"text-align: right;\">\n",
              "      <th></th>\n",
              "      <th>MPG_1_</th>\n",
              "      <th>Cilindros_2_</th>\n",
              "      <th>Max_3_</th>\n",
              "      <th>Acel_4_</th>\n",
              "      <th>HP_5_</th>\n",
              "      <th>Peso_6_</th>\n",
              "      <th>Ano_7_</th>\n",
              "      <th>Origem_8_</th>\n",
              "      <th>Modelo_9_</th>\n",
              "      <th>Marca_10_</th>\n",
              "      <th>KmL_11_</th>\n",
              "    </tr>\n",
              "  </thead>\n",
              "  <tbody>\n",
              "    <tr>\n",
              "      <th>0</th>\n",
              "      <td>18.0</td>\n",
              "      <td>8</td>\n",
              "      <td>307.0</td>\n",
              "      <td>12.0</td>\n",
              "      <td>130</td>\n",
              "      <td>3504</td>\n",
              "      <td>70</td>\n",
              "      <td>North America</td>\n",
              "      <td>chevrolet chevelle malibu</td>\n",
              "      <td>chevrolet</td>\n",
              "      <td>7.56</td>\n",
              "    </tr>\n",
              "    <tr>\n",
              "      <th>1</th>\n",
              "      <td>15.0</td>\n",
              "      <td>8</td>\n",
              "      <td>350.0</td>\n",
              "      <td>11.5</td>\n",
              "      <td>165</td>\n",
              "      <td>3693</td>\n",
              "      <td>70</td>\n",
              "      <td>North America</td>\n",
              "      <td>buick skylark 320</td>\n",
              "      <td>buick</td>\n",
              "      <td>6.30</td>\n",
              "    </tr>\n",
              "    <tr>\n",
              "      <th>2</th>\n",
              "      <td>18.0</td>\n",
              "      <td>8</td>\n",
              "      <td>318.0</td>\n",
              "      <td>11.0</td>\n",
              "      <td>150</td>\n",
              "      <td>3436</td>\n",
              "      <td>70</td>\n",
              "      <td>North America</td>\n",
              "      <td>plymouth satellite</td>\n",
              "      <td>plymouth</td>\n",
              "      <td>7.56</td>\n",
              "    </tr>\n",
              "    <tr>\n",
              "      <th>3</th>\n",
              "      <td>16.0</td>\n",
              "      <td>8</td>\n",
              "      <td>304.0</td>\n",
              "      <td>12.0</td>\n",
              "      <td>150</td>\n",
              "      <td>3433</td>\n",
              "      <td>70</td>\n",
              "      <td>North America</td>\n",
              "      <td>amc rebel sst</td>\n",
              "      <td>amc</td>\n",
              "      <td>6.72</td>\n",
              "    </tr>\n",
              "    <tr>\n",
              "      <th>4</th>\n",
              "      <td>17.0</td>\n",
              "      <td>8</td>\n",
              "      <td>302.0</td>\n",
              "      <td>10.5</td>\n",
              "      <td>140</td>\n",
              "      <td>3449</td>\n",
              "      <td>70</td>\n",
              "      <td>North America</td>\n",
              "      <td>ford torino</td>\n",
              "      <td>ford</td>\n",
              "      <td>7.14</td>\n",
              "    </tr>\n",
              "  </tbody>\n",
              "</table>\n",
              "</div>\n",
              "      <button class=\"colab-df-convert\" onclick=\"convertToInteractive('df-07ed098c-725f-4ad0-92f4-3eb89ffe663f')\"\n",
              "              title=\"Convert this dataframe to an interactive table.\"\n",
              "              style=\"display:none;\">\n",
              "        \n",
              "  <svg xmlns=\"http://www.w3.org/2000/svg\" height=\"24px\"viewBox=\"0 0 24 24\"\n",
              "       width=\"24px\">\n",
              "    <path d=\"M0 0h24v24H0V0z\" fill=\"none\"/>\n",
              "    <path d=\"M18.56 5.44l.94 2.06.94-2.06 2.06-.94-2.06-.94-.94-2.06-.94 2.06-2.06.94zm-11 1L8.5 8.5l.94-2.06 2.06-.94-2.06-.94L8.5 2.5l-.94 2.06-2.06.94zm10 10l.94 2.06.94-2.06 2.06-.94-2.06-.94-.94-2.06-.94 2.06-2.06.94z\"/><path d=\"M17.41 7.96l-1.37-1.37c-.4-.4-.92-.59-1.43-.59-.52 0-1.04.2-1.43.59L10.3 9.45l-7.72 7.72c-.78.78-.78 2.05 0 2.83L4 21.41c.39.39.9.59 1.41.59.51 0 1.02-.2 1.41-.59l7.78-7.78 2.81-2.81c.8-.78.8-2.07 0-2.86zM5.41 20L4 18.59l7.72-7.72 1.47 1.35L5.41 20z\"/>\n",
              "  </svg>\n",
              "      </button>\n",
              "      \n",
              "  <style>\n",
              "    .colab-df-container {\n",
              "      display:flex;\n",
              "      flex-wrap:wrap;\n",
              "      gap: 12px;\n",
              "    }\n",
              "\n",
              "    .colab-df-convert {\n",
              "      background-color: #E8F0FE;\n",
              "      border: none;\n",
              "      border-radius: 50%;\n",
              "      cursor: pointer;\n",
              "      display: none;\n",
              "      fill: #1967D2;\n",
              "      height: 32px;\n",
              "      padding: 0 0 0 0;\n",
              "      width: 32px;\n",
              "    }\n",
              "\n",
              "    .colab-df-convert:hover {\n",
              "      background-color: #E2EBFA;\n",
              "      box-shadow: 0px 1px 2px rgba(60, 64, 67, 0.3), 0px 1px 3px 1px rgba(60, 64, 67, 0.15);\n",
              "      fill: #174EA6;\n",
              "    }\n",
              "\n",
              "    [theme=dark] .colab-df-convert {\n",
              "      background-color: #3B4455;\n",
              "      fill: #D2E3FC;\n",
              "    }\n",
              "\n",
              "    [theme=dark] .colab-df-convert:hover {\n",
              "      background-color: #434B5C;\n",
              "      box-shadow: 0px 1px 3px 1px rgba(0, 0, 0, 0.15);\n",
              "      filter: drop-shadow(0px 1px 2px rgba(0, 0, 0, 0.3));\n",
              "      fill: #FFFFFF;\n",
              "    }\n",
              "  </style>\n",
              "\n",
              "      <script>\n",
              "        const buttonEl =\n",
              "          document.querySelector('#df-07ed098c-725f-4ad0-92f4-3eb89ffe663f button.colab-df-convert');\n",
              "        buttonEl.style.display =\n",
              "          google.colab.kernel.accessAllowed ? 'block' : 'none';\n",
              "\n",
              "        async function convertToInteractive(key) {\n",
              "          const element = document.querySelector('#df-07ed098c-725f-4ad0-92f4-3eb89ffe663f');\n",
              "          const dataTable =\n",
              "            await google.colab.kernel.invokeFunction('convertToInteractive',\n",
              "                                                     [key], {});\n",
              "          if (!dataTable) return;\n",
              "\n",
              "          const docLinkHtml = 'Like what you see? Visit the ' +\n",
              "            '<a target=\"_blank\" href=https://colab.research.google.com/notebooks/data_table.ipynb>data table notebook</a>'\n",
              "            + ' to learn more about interactive tables.';\n",
              "          element.innerHTML = '';\n",
              "          dataTable['output_type'] = 'display_data';\n",
              "          await google.colab.output.renderOutput(dataTable, element);\n",
              "          const docLink = document.createElement('div');\n",
              "          docLink.innerHTML = docLinkHtml;\n",
              "          element.appendChild(docLink);\n",
              "        }\n",
              "      </script>\n",
              "    </div>\n",
              "  </div>\n",
              "  "
            ]
          },
          "metadata": {},
          "execution_count": 150
        }
      ]
    },
    {
      "cell_type": "code",
      "source": [
        "dfEstatitisco = df.describe(include='all')\n",
        "dfEstatitisco"
      ],
      "metadata": {
        "id": "kTbC8C9Eaxqu"
      },
      "execution_count": null,
      "outputs": []
    },
    {
      "cell_type": "code",
      "source": [
        "df.count() #Quantos veículos foram cadastrados"
      ],
      "metadata": {
        "colab": {
          "base_uri": "https://localhost:8080/"
        },
        "id": "l4w8baDTUEFa",
        "outputId": "fa5c5425-9abb-4501-a53f-638f7c0384a5"
      },
      "execution_count": 151,
      "outputs": [
        {
          "output_type": "execute_result",
          "data": {
            "text/plain": [
              "MPG_1_          392\n",
              "Cilindros_2_    392\n",
              "Max_3_          392\n",
              "Acel_4_         392\n",
              "HP_5_           392\n",
              "Peso_6_         392\n",
              "Ano_7_          392\n",
              "Origem_8_       392\n",
              "Modelo_9_       392\n",
              "Marca_10_       392\n",
              "KmL_11_         392\n",
              "dtype: int64"
            ]
          },
          "metadata": {},
          "execution_count": 151
        }
      ]
    },
    {
      "cell_type": "code",
      "source": [
        "df.KmL_11_.mean() #A média de Autonomia dos veículos em KM/L"
      ],
      "metadata": {
        "colab": {
          "base_uri": "https://localhost:8080/"
        },
        "id": "rAo2CJ8PUb-O",
        "outputId": "a6f5bd06-ce7b-4b70-9cb3-bb2277c8ca57"
      },
      "execution_count": 152,
      "outputs": [
        {
          "output_type": "execute_result",
          "data": {
            "text/plain": [
              "9.847285"
            ]
          },
          "metadata": {},
          "execution_count": 152
        }
      ]
    },
    {
      "cell_type": "code",
      "source": [
        "df.HP_5.max() #A maior potência em HP"
      ],
      "metadata": {
        "colab": {
          "base_uri": "https://localhost:8080/"
        },
        "id": "DBB6x3dgUteo",
        "outputId": "1996ed70-530b-437b-d422-93acf1e96abd"
      },
      "execution_count": 88,
      "outputs": [
        {
          "output_type": "execute_result",
          "data": {
            "text/plain": [
              "230"
            ]
          },
          "metadata": {},
          "execution_count": 88
        }
      ]
    },
    {
      "cell_type": "code",
      "source": [
        "df.HP_5_.min() #A menor potência em HP"
      ],
      "metadata": {
        "colab": {
          "base_uri": "https://localhost:8080/"
        },
        "id": "gTQK0CWXU-oQ",
        "outputId": "969ed79a-58d9-48a3-bd37-4adeabac52e4"
      },
      "execution_count": 153,
      "outputs": [
        {
          "output_type": "execute_result",
          "data": {
            "text/plain": [
              "46"
            ]
          },
          "metadata": {},
          "execution_count": 153
        }
      ]
    },
    {
      "cell_type": "code",
      "source": [
        "df.Peso_6_.max() #Maior peso"
      ],
      "metadata": {
        "colab": {
          "base_uri": "https://localhost:8080/"
        },
        "id": "2wiG4nfUVFQZ",
        "outputId": "17724286-cf59-405b-dab9-162596b23511"
      },
      "execution_count": 154,
      "outputs": [
        {
          "output_type": "execute_result",
          "data": {
            "text/plain": [
              "5140"
            ]
          },
          "metadata": {},
          "execution_count": 154
        }
      ]
    },
    {
      "cell_type": "code",
      "source": [
        "df.Marca_10_.mode()"
      ],
      "metadata": {
        "colab": {
          "base_uri": "https://localhost:8080/"
        },
        "id": "oycY_Z5OZRLd",
        "outputId": "017c3c50-ae93-4d6f-ad2a-c6e596b80b5e"
      },
      "execution_count": 155,
      "outputs": [
        {
          "output_type": "execute_result",
          "data": {
            "text/plain": [
              "0    ford\n",
              "dtype: object"
            ]
          },
          "metadata": {},
          "execution_count": 155
        }
      ]
    },
    {
      "cell_type": "code",
      "source": [
        "df.Marca_10_.value_counts()"
      ],
      "metadata": {
        "colab": {
          "base_uri": "https://localhost:8080/"
        },
        "id": "m5zcwPHwZs66",
        "outputId": "3f3d396d-28b4-4154-b57e-747d9e28f390"
      },
      "execution_count": 159,
      "outputs": [
        {
          "output_type": "execute_result",
          "data": {
            "text/plain": [
              "ford          48\n",
              "chevrolet     47\n",
              "plymouth      31\n",
              "dodge         28\n",
              "amc           27\n",
              "toyota        26\n",
              "datsun        23\n",
              "volkswagen    22\n",
              "buick         17\n",
              "pontiac       16\n",
              "honda         13\n",
              "mazda         12\n",
              "mercury       11\n",
              "oldsmobile    10\n",
              "fiat           8\n",
              "peugeot        8\n",
              "audi           7\n",
              "volvo          6\n",
              "chrysler       6\n",
              "saab           4\n",
              "opel           4\n",
              "subaru         4\n",
              "mercedes       3\n",
              "renault        3\n",
              "cadillac       2\n",
              "bmw            2\n",
              "capri          1\n",
              "hi             1\n",
              "triumph        1\n",
              "nissan         1\n",
              "Name: Marca_10_, dtype: int64"
            ]
          },
          "metadata": {},
          "execution_count": 159
        }
      ]
    },
    {
      "cell_type": "code",
      "source": [
        "todosmodelos = list(df['Modelo_9_'].unique()) #todos os Modelos de carros cadastrados em ordem alfabética\n",
        "todosmodelos.sort()\n",
        "todosmodelos\n"
      ],
      "metadata": {
        "id": "MNkn4O8RhfWi",
        "outputId": "517b8a5f-05df-47d3-eaaf-3cd51247578f",
        "colab": {
          "base_uri": "https://localhost:8080/"
        }
      },
      "execution_count": 200,
      "outputs": [
        {
          "output_type": "execute_result",
          "data": {
            "text/plain": [
              "['amc ambassador brougham',\n",
              " 'amc ambassador dpl',\n",
              " 'amc ambassador sst',\n",
              " 'amc concord',\n",
              " 'amc concord d/l',\n",
              " 'amc concord dl 6',\n",
              " 'amc gremlin',\n",
              " 'amc hornet',\n",
              " 'amc hornet sportabout (sw)',\n",
              " 'amc matador',\n",
              " 'amc matador (sw)',\n",
              " 'amc pacer',\n",
              " 'amc pacer d/l',\n",
              " 'amc rebel sst',\n",
              " 'amc spirit dl',\n",
              " 'audi 100 ls',\n",
              " 'audi 100ls',\n",
              " 'audi 4000',\n",
              " 'audi 5000',\n",
              " 'audi 5000s (diesel)',\n",
              " 'audi fox',\n",
              " 'bmw 2002',\n",
              " 'bmw 320i',\n",
              " 'buick century',\n",
              " 'buick century 350',\n",
              " 'buick century limited',\n",
              " 'buick century luxus (sw)',\n",
              " 'buick century special',\n",
              " 'buick electra 225 custom',\n",
              " 'buick estate wagon (sw)',\n",
              " 'buick lesabre custom',\n",
              " 'buick opel isuzu deluxe',\n",
              " 'buick regal sport coupe (turbo)',\n",
              " 'buick skyhawk',\n",
              " 'buick skylark',\n",
              " 'buick skylark 320',\n",
              " 'buick skylark limited',\n",
              " 'cadillac eldorado',\n",
              " 'cadillac seville',\n",
              " 'capri ii',\n",
              " 'chevroelt chevelle malibu',\n",
              " 'chevrolet bel air',\n",
              " 'chevrolet camaro',\n",
              " 'chevrolet caprice classic',\n",
              " 'chevrolet cavalier',\n",
              " 'chevrolet cavalier 2-door',\n",
              " 'chevrolet cavalier wagon',\n",
              " 'chevrolet chevelle concours (sw)',\n",
              " 'chevrolet chevelle malibu',\n",
              " 'chevrolet chevelle malibu classic',\n",
              " 'chevrolet chevette',\n",
              " 'chevrolet citation',\n",
              " 'chevrolet concours',\n",
              " 'chevrolet impala',\n",
              " 'chevrolet malibu',\n",
              " 'chevrolet malibu classic (sw)',\n",
              " 'chevrolet monte carlo',\n",
              " 'chevrolet monte carlo landau',\n",
              " 'chevrolet monte carlo s',\n",
              " 'chevrolet monza 2+2',\n",
              " 'chevrolet nova',\n",
              " 'chevrolet nova custom',\n",
              " 'chevrolet vega',\n",
              " 'chevrolet vega (sw)',\n",
              " 'chevrolet vega 2300',\n",
              " 'chevrolet woody',\n",
              " 'chevy c10',\n",
              " 'chevy c20',\n",
              " 'chevy s-10',\n",
              " 'chrysler cordoba',\n",
              " 'chrysler lebaron medallion',\n",
              " 'chrysler lebaron salon',\n",
              " 'chrysler lebaron town @ country (sw)',\n",
              " 'chrysler new yorker brougham',\n",
              " 'chrysler newport royal',\n",
              " 'datsun 1200',\n",
              " 'datsun 200-sx',\n",
              " 'datsun 200sx',\n",
              " 'datsun 210',\n",
              " 'datsun 210 mpg',\n",
              " 'datsun 280-zx',\n",
              " 'datsun 310',\n",
              " 'datsun 310 gx',\n",
              " 'datsun 510',\n",
              " 'datsun 510 (sw)',\n",
              " 'datsun 510 hatchback',\n",
              " 'datsun 610',\n",
              " 'datsun 710',\n",
              " 'datsun 810',\n",
              " 'datsun 810 maxima',\n",
              " 'datsun b-210',\n",
              " 'datsun b210',\n",
              " 'datsun b210 gx',\n",
              " 'datsun f-10 hatchback',\n",
              " 'datsun pl510',\n",
              " 'dodge aries se',\n",
              " 'dodge aries wagon (sw)',\n",
              " 'dodge aspen',\n",
              " 'dodge aspen 6',\n",
              " 'dodge aspen se',\n",
              " 'dodge challenger se',\n",
              " 'dodge charger 2.2',\n",
              " 'dodge colt',\n",
              " 'dodge colt (sw)',\n",
              " 'dodge colt hardtop',\n",
              " 'dodge colt hatchback custom',\n",
              " 'dodge colt m/m',\n",
              " 'dodge coronet brougham',\n",
              " 'dodge coronet custom',\n",
              " 'dodge coronet custom (sw)',\n",
              " 'dodge d100',\n",
              " 'dodge d200',\n",
              " 'dodge dart custom',\n",
              " 'dodge diplomat',\n",
              " 'dodge magnum xe',\n",
              " 'dodge monaco (sw)',\n",
              " 'dodge monaco brougham',\n",
              " 'dodge omni',\n",
              " 'dodge rampage',\n",
              " 'dodge st. regis',\n",
              " 'fiat 124 sport coupe',\n",
              " 'fiat 124 tc',\n",
              " 'fiat 124b',\n",
              " 'fiat 128',\n",
              " 'fiat 131',\n",
              " 'fiat strada custom',\n",
              " 'fiat x1.9',\n",
              " 'ford country',\n",
              " 'ford country squire (sw)',\n",
              " 'ford escort 2h',\n",
              " 'ford escort 4w',\n",
              " 'ford f108',\n",
              " 'ford f250',\n",
              " 'ford fairmont',\n",
              " 'ford fairmont (auto)',\n",
              " 'ford fairmont (man)',\n",
              " 'ford fairmont 4',\n",
              " 'ford fairmont futura',\n",
              " 'ford fiesta',\n",
              " 'ford futura',\n",
              " 'ford galaxie 500',\n",
              " 'ford gran torino',\n",
              " 'ford gran torino (sw)',\n",
              " 'ford granada',\n",
              " 'ford granada ghia',\n",
              " 'ford granada gl',\n",
              " 'ford granada l',\n",
              " 'ford ltd',\n",
              " 'ford ltd landau',\n",
              " 'ford maverick',\n",
              " 'ford mustang',\n",
              " 'ford mustang gl',\n",
              " 'ford mustang ii',\n",
              " 'ford mustang ii 2+2',\n",
              " 'ford pinto',\n",
              " 'ford pinto (sw)',\n",
              " 'ford pinto runabout',\n",
              " 'ford ranger',\n",
              " 'ford thunderbird',\n",
              " 'ford torino',\n",
              " 'ford torino 500',\n",
              " 'hi 1200d',\n",
              " 'honda accord',\n",
              " 'honda accord cvcc',\n",
              " 'honda accord lx',\n",
              " 'honda civic',\n",
              " 'honda civic (auto)',\n",
              " 'honda civic 1300',\n",
              " 'honda civic 1500 gl',\n",
              " 'honda civic cvcc',\n",
              " 'honda prelude',\n",
              " 'maxda glc deluxe',\n",
              " 'maxda rx3',\n",
              " 'mazda 626',\n",
              " 'mazda glc',\n",
              " 'mazda glc 4',\n",
              " 'mazda glc custom',\n",
              " 'mazda glc custom l',\n",
              " 'mazda glc deluxe',\n",
              " 'mazda rx-4',\n",
              " 'mazda rx-7 gs',\n",
              " 'mazda rx2 coupe',\n",
              " 'mercedes benz 300d',\n",
              " 'mercedes-benz 240d',\n",
              " 'mercedes-benz 280s',\n",
              " 'mercury capri 2000',\n",
              " 'mercury capri v6',\n",
              " 'mercury cougar brougham',\n",
              " 'mercury grand marquis',\n",
              " 'mercury lynx l',\n",
              " 'mercury marquis',\n",
              " 'mercury marquis brougham',\n",
              " 'mercury monarch',\n",
              " 'mercury monarch ghia',\n",
              " 'mercury zephyr',\n",
              " 'mercury zephyr 6',\n",
              " 'nissan stanza xe',\n",
              " 'oldsmobile cutlass ciera (diesel)',\n",
              " 'oldsmobile cutlass ls',\n",
              " 'oldsmobile cutlass salon brougham',\n",
              " 'oldsmobile cutlass supreme',\n",
              " 'oldsmobile delta 88 royale',\n",
              " 'oldsmobile omega',\n",
              " 'oldsmobile omega brougham',\n",
              " 'oldsmobile starfire sx',\n",
              " 'oldsmobile vista cruiser',\n",
              " 'opel 1900',\n",
              " 'opel manta',\n",
              " 'peugeot 304',\n",
              " 'peugeot 504',\n",
              " 'peugeot 504 (sw)',\n",
              " 'peugeot 505s turbo diesel',\n",
              " 'peugeot 604sl',\n",
              " \"plymouth 'cuda 340\",\n",
              " 'plymouth arrow gs',\n",
              " 'plymouth champ',\n",
              " 'plymouth cricket',\n",
              " 'plymouth custom suburb',\n",
              " 'plymouth duster',\n",
              " 'plymouth fury',\n",
              " 'plymouth fury gran sedan',\n",
              " 'plymouth fury iii',\n",
              " 'plymouth grand fury',\n",
              " 'plymouth horizon',\n",
              " 'plymouth horizon 4',\n",
              " 'plymouth horizon miser',\n",
              " 'plymouth horizon tc3',\n",
              " 'plymouth reliant',\n",
              " 'plymouth sapporo',\n",
              " 'plymouth satellite',\n",
              " 'plymouth satellite custom',\n",
              " 'plymouth satellite custom (sw)',\n",
              " 'plymouth satellite sebring',\n",
              " 'plymouth valiant',\n",
              " 'plymouth valiant custom',\n",
              " 'plymouth volare',\n",
              " 'plymouth volare custom',\n",
              " 'plymouth volare premier v8',\n",
              " 'pontiac astro',\n",
              " 'pontiac catalina',\n",
              " 'pontiac catalina brougham',\n",
              " 'pontiac firebird',\n",
              " 'pontiac grand prix',\n",
              " 'pontiac grand prix lj',\n",
              " 'pontiac j2000 se hatchback',\n",
              " 'pontiac lemans v6',\n",
              " 'pontiac phoenix',\n",
              " 'pontiac phoenix lj',\n",
              " 'pontiac safari (sw)',\n",
              " 'pontiac sunbird coupe',\n",
              " 'pontiac ventura sj',\n",
              " 'renault 12 (sw)',\n",
              " 'renault 12tl',\n",
              " 'renault 5 gtl',\n",
              " 'saab 99e',\n",
              " 'saab 99gle',\n",
              " 'saab 99le',\n",
              " 'subaru',\n",
              " 'subaru dl',\n",
              " 'toyota carina',\n",
              " 'toyota celica gt',\n",
              " 'toyota celica gt liftback',\n",
              " 'toyota corolla',\n",
              " 'toyota corolla 1200',\n",
              " 'toyota corolla 1600 (sw)',\n",
              " 'toyota corolla liftback',\n",
              " 'toyota corolla tercel',\n",
              " 'toyota corona',\n",
              " 'toyota corona hardtop',\n",
              " 'toyota corona liftback',\n",
              " 'toyota corona mark ii',\n",
              " 'toyota cressida',\n",
              " 'toyota mark ii',\n",
              " 'toyota starlet',\n",
              " 'toyota tercel',\n",
              " 'toyouta corona mark ii (sw)',\n",
              " 'triumph tr7 coupe',\n",
              " 'vokswagen rabbit',\n",
              " 'volkswagen 1131 deluxe sedan',\n",
              " 'volkswagen 411 (sw)',\n",
              " 'volkswagen dasher',\n",
              " 'volkswagen jetta',\n",
              " 'volkswagen model 111',\n",
              " 'volkswagen rabbit',\n",
              " 'volkswagen rabbit custom',\n",
              " 'volkswagen rabbit custom diesel',\n",
              " 'volkswagen rabbit l',\n",
              " 'volkswagen scirocco',\n",
              " 'volkswagen super beetle',\n",
              " 'volkswagen type 3',\n",
              " 'volvo 144ea',\n",
              " 'volvo 145e (sw)',\n",
              " 'volvo 244dl',\n",
              " 'volvo 245',\n",
              " 'volvo 264gl',\n",
              " 'volvo diesel',\n",
              " 'vw dasher (diesel)',\n",
              " 'vw pickup',\n",
              " 'vw rabbit',\n",
              " 'vw rabbit c (diesel)',\n",
              " 'vw rabbit custom']"
            ]
          },
          "metadata": {},
          "execution_count": 200
        }
      ]
    },
    {
      "cell_type": "code",
      "source": [
        "df.count() #Quantos veículos foram cadastrados"
      ],
      "metadata": {
        "colab": {
          "base_uri": "https://localhost:8080/"
        },
        "outputId": "fa5c5425-9abb-4501-a53f-638f7c0384a5",
        "id": "Wjn6BseYbyRV"
      },
      "execution_count": null,
      "outputs": [
        {
          "output_type": "execute_result",
          "data": {
            "text/plain": [
              "MPG_1_          392\n",
              "Cilindros_2_    392\n",
              "Max_3_          392\n",
              "Acel_4_         392\n",
              "HP_5_           392\n",
              "Peso_6_         392\n",
              "Ano_7_          392\n",
              "Origem_8_       392\n",
              "Modelo_9_       392\n",
              "Marca_10_       392\n",
              "KmL_11_         392\n",
              "dtype: int64"
            ]
          },
          "metadata": {},
          "execution_count": 151
        }
      ]
    },
    {
      "cell_type": "code",
      "source": [
        "import seaborn as sns"
      ],
      "metadata": {
        "id": "_YJeHZ748Rc2"
      },
      "execution_count": 17,
      "outputs": []
    },
    {
      "cell_type": "code",
      "source": [
        "cols = ['MPG', 'Cilindros']\n",
        "sns.pairplot(df[cols], size=2.0)"
      ],
      "metadata": {
        "colab": {
          "base_uri": "https://localhost:8080/",
          "height": 355
        },
        "id": "Z-5FPfkg6g2Y",
        "outputId": "d51cc3b2-c229-4d94-c3fc-568b97aac7e9"
      },
      "execution_count": 18,
      "outputs": [
        {
          "output_type": "stream",
          "name": "stderr",
          "text": [
            "/usr/local/lib/python3.8/dist-packages/seaborn/axisgrid.py:2076: UserWarning: The `size` parameter has been renamed to `height`; please update your code.\n",
            "  warnings.warn(msg, UserWarning)\n"
          ]
        },
        {
          "output_type": "execute_result",
          "data": {
            "text/plain": [
              "<seaborn.axisgrid.PairGrid at 0x7f24e283bb20>"
            ]
          },
          "metadata": {},
          "execution_count": 18
        },
        {
          "output_type": "display_data",
          "data": {
            "text/plain": [
              "<Figure size 288x288 with 6 Axes>"
            ],
            "image/png": "[encoded data removed]"
          },
          "metadata": {
            "needs_background": "light"
          }
        }
      ]
    },
    {
      "cell_type": "code",
      "source": [
        "cols = ['MPG', 'Cilindros', 'Max', 'Acel', 'HP', 'Peso', 'Ano', 'Origem',\n",
        "       'Modelo', 'Marca']\n",
        "sns.pairplot(df[cols], height=2.0, kind='bar')"
      ],
      "metadata": {
        "colab": {
          "base_uri": "https://localhost:8080/",
          "height": 1000
        },
        "id": "77-XBOgD8c8c",
        "outputId": "273cab06-5065-42ec-c9a3-a726932ee3e1"
      },
      "execution_count": 19,
      "outputs": [
        {
          "output_type": "execute_result",
          "data": {
            "text/plain": [
              "<seaborn.axisgrid.PairGrid at 0x7f24e283bf10>"
            ]
          },
          "metadata": {},
          "execution_count": 19
        },
        {
          "output_type": "display_data",
          "data": {
            "text/plain": [
              "<Figure size 1008x1008 with 56 Axes>"
            ],
            "image/png": "[encoded data removed]"
          },
          "metadata": {
            "needs_background": "light"
          }
        }
      ]
    },
    {
      "cell_type": "code",
      "source": [
        "import numpy as np\n",
        "import matplotlib.pyplot as plt\n"
      ],
      "metadata": {
        "id": "PaoWNUltDhe7"
      },
      "execution_count": 20,
      "outputs": []
    },
    {
      "cell_type": "code",
      "source": [
        "from sklearn.preprocessing import StandardScaler"
      ],
      "metadata": {
        "id": "A0gaAdhzECPg"
      },
      "execution_count": 21,
      "outputs": []
    },
    {
      "cell_type": "code",
      "source": [
        "cols = ['MPG', 'Cilindros', 'Max', 'Acel', 'HP', 'Peso', 'Ano', 'Origem', #Calculation of covariance matrix\n",
        "       'Modelo', 'Marca']\n",
        "stdsc = StandardScaler()\n",
        "X_std = stdsc.fit_transform(df[cols].iloc[:,range(0,7)].values)\n",
        "cov_mat =np.cov(X_std.T)\n",
        "plt.figure(figsize=(10,10))\n",
        "sns.set(font_scale=1.5)\n",
        "hm = sns.heatmap(cov_mat,\n",
        "                 cbar=True,\n",
        "                 annot=True,\n",
        "                 square=True,\n",
        "                 fmt='.2f',\n",
        "                 annot_kws={'size': 12},\n",
        "                 yticklabels=cols,\n",
        "                 xticklabels=cols)\n",
        "plt.title('Covariance matrix showing correlation coefficients')\n",
        "plt.tight_layout()\n",
        "plt.show()"
      ],
      "metadata": {
        "colab": {
          "base_uri": "https://localhost:8080/",
          "height": 680
        },
        "id": "GO2PseCuDWS5",
        "outputId": "5d75491f-0b61-4ba9-facc-08817efc42d6"
      },
      "execution_count": 22,
      "outputs": [
        {
          "output_type": "display_data",
          "data": {
            "text/plain": [
              "<Figure size 720x720 with 2 Axes>"
            ],
            "image/png": "[encoded data removed]"
          },
          "metadata": {
            "needs_background": "light"
          }
        }
      ]
    },
    {
      "cell_type": "code",
      "source": [
        "df['KmL']=df['Cilindros']*0.42 #Criando nova coluna 'KmL'"
      ],
      "metadata": {
        "id": "uvbXjlyUEia3"
      },
      "execution_count": null,
      "outputs": []
    },
    {
      "cell_type": "code",
      "source": [
        "df.head()"
      ],
      "metadata": {
        "colab": {
          "base_uri": "https://localhost:8080/",
          "height": 206
        },
        "id": "Q5pTRfcjEwgO",
        "outputId": "a7f615eb-4157-4e97-c316-b7125bc38e81"
      },
      "execution_count": null,
      "outputs": [
        {
          "output_type": "execute_result",
          "data": {
            "text/plain": [
              "    MPG  Cilindros    Max  Acel   HP  Peso  Ano         Origem  \\\n",
              "0  18.0          8  307.0  12.0  130  3504   70  North America   \n",
              "1  15.0          8  350.0  11.5  165  3693   70  North America   \n",
              "2  18.0          8  318.0  11.0  150  3436   70  North America   \n",
              "3  16.0          8  304.0  12.0  150  3433   70  North America   \n",
              "4  17.0          8  302.0  10.5  140  3449   70  North America   \n",
              "\n",
              "                      Modelo      Marca   KmL  \n",
              "0  chevrolet chevelle malibu  chevrolet  3.36  \n",
              "1          buick skylark 320      buick  3.36  \n",
              "2         plymouth satellite   plymouth  3.36  \n",
              "3              amc rebel sst        amc  3.36  \n",
              "4                ford torino       ford  3.36  "
            ],
            "text/html": [
              "\n",
              "  <div id=\"df-96e62f37-c94b-48fd-b44b-34f9565875bb\">\n",
              "    <div class=\"colab-df-container\">\n",
              "      <div>\n",
              "<style scoped>\n",
              "    .dataframe tbody tr th:only-of-type {\n",
              "        vertical-align: middle;\n",
              "    }\n",
              "\n",
              "    .dataframe tbody tr th {\n",
              "        vertical-align: top;\n",
              "    }\n",
              "\n",
              "    .dataframe thead th {\n",
              "        text-align: right;\n",
              "    }\n",
              "</style>\n",
              "<table border=\"1\" class=\"dataframe\">\n",
              "  <thead>\n",
              "    <tr style=\"text-align: right;\">\n",
              "      <th></th>\n",
              "      <th>MPG</th>\n",
              "      <th>Cilindros</th>\n",
              "      <th>Max</th>\n",
              "      <th>Acel</th>\n",
              "      <th>HP</th>\n",
              "      <th>Peso</th>\n",
              "      <th>Ano</th>\n",
              "      <th>Origem</th>\n",
              "      <th>Modelo</th>\n",
              "      <th>Marca</th>\n",
              "      <th>KmL</th>\n",
              "    </tr>\n",
              "  </thead>\n",
              "  <tbody>\n",
              "    <tr>\n",
              "      <th>0</th>\n",
              "      <td>18.0</td>\n",
              "      <td>8</td>\n",
              "      <td>307.0</td>\n",
              "      <td>12.0</td>\n",
              "      <td>130</td>\n",
              "      <td>3504</td>\n",
              "      <td>70</td>\n",
              "      <td>North America</td>\n",
              "      <td>chevrolet chevelle malibu</td>\n",
              "      <td>chevrolet</td>\n",
              "      <td>3.36</td>\n",
              "    </tr>\n",
              "    <tr>\n",
              "      <th>1</th>\n",
              "      <td>15.0</td>\n",
              "      <td>8</td>\n",
              "      <td>350.0</td>\n",
              "      <td>11.5</td>\n",
              "      <td>165</td>\n",
              "      <td>3693</td>\n",
              "      <td>70</td>\n",
              "      <td>North America</td>\n",
              "      <td>buick skylark 320</td>\n",
              "      <td>buick</td>\n",
              "      <td>3.36</td>\n",
              "    </tr>\n",
              "    <tr>\n",
              "      <th>2</th>\n",
              "      <td>18.0</td>\n",
              "      <td>8</td>\n",
              "      <td>318.0</td>\n",
              "      <td>11.0</td>\n",
              "      <td>150</td>\n",
              "      <td>3436</td>\n",
              "      <td>70</td>\n",
              "      <td>North America</td>\n",
              "      <td>plymouth satellite</td>\n",
              "      <td>plymouth</td>\n",
              "      <td>3.36</td>\n",
              "    </tr>\n",
              "    <tr>\n",
              "      <th>3</th>\n",
              "      <td>16.0</td>\n",
              "      <td>8</td>\n",
              "      <td>304.0</td>\n",
              "      <td>12.0</td>\n",
              "      <td>150</td>\n",
              "      <td>3433</td>\n",
              "      <td>70</td>\n",
              "      <td>North America</td>\n",
              "      <td>amc rebel sst</td>\n",
              "      <td>amc</td>\n",
              "      <td>3.36</td>\n",
              "    </tr>\n",
              "    <tr>\n",
              "      <th>4</th>\n",
              "      <td>17.0</td>\n",
              "      <td>8</td>\n",
              "      <td>302.0</td>\n",
              "      <td>10.5</td>\n",
              "      <td>140</td>\n",
              "      <td>3449</td>\n",
              "      <td>70</td>\n",
              "      <td>North America</td>\n",
              "      <td>ford torino</td>\n",
              "      <td>ford</td>\n",
              "      <td>3.36</td>\n",
              "    </tr>\n",
              "  </tbody>\n",
              "</table>\n",
              "</div>\n",
              "      <button class=\"colab-df-convert\" onclick=\"convertToInteractive('df-96e62f37-c94b-48fd-b44b-34f9565875bb')\"\n",
              "              title=\"Convert this dataframe to an interactive table.\"\n",
              "              style=\"display:none;\">\n",
              "        \n",
              "  <svg xmlns=\"http://www.w3.org/2000/svg\" height=\"24px\"viewBox=\"0 0 24 24\"\n",
              "       width=\"24px\">\n",
              "    <path d=\"M0 0h24v24H0V0z\" fill=\"none\"/>\n",
              "    <path d=\"M18.56 5.44l.94 2.06.94-2.06 2.06-.94-2.06-.94-.94-2.06-.94 2.06-2.06.94zm-11 1L8.5 8.5l.94-2.06 2.06-.94-2.06-.94L8.5 2.5l-.94 2.06-2.06.94zm10 10l.94 2.06.94-2.06 2.06-.94-2.06-.94-.94-2.06-.94 2.06-2.06.94z\"/><path d=\"M17.41 7.96l-1.37-1.37c-.4-.4-.92-.59-1.43-.59-.52 0-1.04.2-1.43.59L10.3 9.45l-7.72 7.72c-.78.78-.78 2.05 0 2.83L4 21.41c.39.39.9.59 1.41.59.51 0 1.02-.2 1.41-.59l7.78-7.78 2.81-2.81c.8-.78.8-2.07 0-2.86zM5.41 20L4 18.59l7.72-7.72 1.47 1.35L5.41 20z\"/>\n",
              "  </svg>\n",
              "      </button>\n",
              "      \n",
              "  <style>\n",
              "    .colab-df-container {\n",
              "      display:flex;\n",
              "      flex-wrap:wrap;\n",
              "      gap: 12px;\n",
              "    }\n",
              "\n",
              "    .colab-df-convert {\n",
              "      background-color: #E8F0FE;\n",
              "      border: none;\n",
              "      border-radius: 50%;\n",
              "      cursor: pointer;\n",
              "      display: none;\n",
              "      fill: #1967D2;\n",
              "      height: 32px;\n",
              "      padding: 0 0 0 0;\n",
              "      width: 32px;\n",
              "    }\n",
              "\n",
              "    .colab-df-convert:hover {\n",
              "      background-color: #E2EBFA;\n",
              "      box-shadow: 0px 1px 2px rgba(60, 64, 67, 0.3), 0px 1px 3px 1px rgba(60, 64, 67, 0.15);\n",
              "      fill: #174EA6;\n",
              "    }\n",
              "\n",
              "    [theme=dark] .colab-df-convert {\n",
              "      background-color: #3B4455;\n",
              "      fill: #D2E3FC;\n",
              "    }\n",
              "\n",
              "    [theme=dark] .colab-df-convert:hover {\n",
              "      background-color: #434B5C;\n",
              "      box-shadow: 0px 1px 3px 1px rgba(0, 0, 0, 0.15);\n",
              "      filter: drop-shadow(0px 1px 2px rgba(0, 0, 0, 0.3));\n",
              "      fill: #FFFFFF;\n",
              "    }\n",
              "  </style>\n",
              "\n",
              "      <script>\n",
              "        const buttonEl =\n",
              "          document.querySelector('#df-96e62f37-c94b-48fd-b44b-34f9565875bb button.colab-df-convert');\n",
              "        buttonEl.style.display =\n",
              "          google.colab.kernel.accessAllowed ? 'block' : 'none';\n",
              "\n",
              "        async function convertToInteractive(key) {\n",
              "          const element = document.querySelector('#df-96e62f37-c94b-48fd-b44b-34f9565875bb');\n",
              "          const dataTable =\n",
              "            await google.colab.kernel.invokeFunction('convertToInteractive',\n",
              "                                                     [key], {});\n",
              "          if (!dataTable) return;\n",
              "\n",
              "          const docLinkHtml = 'Like what you see? Visit the ' +\n",
              "            '<a target=\"_blank\" href=https://colab.research.google.com/notebooks/data_table.ipynb>data table notebook</a>'\n",
              "            + ' to learn more about interactive tables.';\n",
              "          element.innerHTML = '';\n",
              "          dataTable['output_type'] = 'display_data';\n",
              "          await google.colab.output.renderOutput(dataTable, element);\n",
              "          const docLink = document.createElement('div');\n",
              "          docLink.innerHTML = docLinkHtml;\n",
              "          element.appendChild(docLink);\n",
              "        }\n",
              "      </script>\n",
              "    </div>\n",
              "  </div>\n",
              "  "
            ]
          },
          "metadata": {},
          "execution_count": 51
        }
      ]
    },
    {
      "cell_type": "code",
      "source": [
        "from google.colab import drive\n",
        "drive.mount('/content/drive')"
      ],
      "metadata": {
        "colab": {
          "base_uri": "https://localhost:8080/"
        },
        "id": "IgRgqRNusnol",
        "outputId": "a55c1c1c-1b1d-41fc-e78b-977cdc09e160"
      },
      "execution_count": null,
      "outputs": [
        {
          "output_type": "stream",
          "name": "stdout",
          "text": [
            "Mounted at /content/drive\n"
          ]
        }
      ]
    },
    {
      "cell_type": "code",
      "source": [
        "# Tipos de Gráficos (PyPlot)\n",
        "tipos=[\"area\",\"bar\",\"barh\",\"box\",\"hist\", \"line\"] # \"hexbin\",\"density\",\"kde\",\"scatter\",\"pie\""
      ],
      "metadata": {
        "id": "4km6ec6vyiNK"
      },
      "execution_count": null,
      "outputs": []
    },
    {
      "cell_type": "code",
      "source": [
        "tipo = \"area\" #@param[\"area\",\"bar\",\"barh\",\"box\",\"hist\", \"line\",\"hexbin\",\"density\",\"kde\",\"scatter\",\"pie\"]"
      ],
      "metadata": {
        "id": "LZeAgENJy5tn"
      },
      "execution_count": null,
      "outputs": []
    },
    {
      "cell_type": "code",
      "source": [
        "pd.options.plotting.backend='matplotlib'\n",
        "df.plot(x=\"Ano\", y=[\"MPG\", \"Max\", \"Acel\"], kind=tipo )\n",
        "plt.show()"
      ],
      "metadata": {
        "id": "Klhwt8gOCwJ5"
      },
      "execution_count": null,
      "outputs": []
    },
    {
      "cell_type": "markdown",
      "source": [
        "Usando MatPlotLib..."
      ],
      "metadata": {
        "id": "BJbXLEr94CE1"
      }
    },
    {
      "cell_type": "code",
      "source": [
        "pd.options.plotting.backend='matplotlib'\n",
        "df.plot(x=\"Marca\", y=\"HP\", kind=\"bar\", stacked=True)"
      ],
      "metadata": {
        "id": "LYjG0_QD4FLt"
      },
      "execution_count": null,
      "outputs": []
    },
    {
      "cell_type": "markdown",
      "source": [
        "Usando Plotly..."
      ],
      "metadata": {
        "id": "KUfG5jTL2CZ2"
      }
    },
    {
      "cell_type": "code",
      "source": [
        "!pip install plotly==5.5"
      ],
      "metadata": {
        "id": "AAdxKxGs2JZa"
      },
      "execution_count": null,
      "outputs": []
    },
    {
      "cell_type": "code",
      "source": [
        "outrosTipos = \"bar\" #@param[\"area\",\"bar\",\"barh\",\"box\",\"hist\", \"line\"]"
      ],
      "metadata": {
        "id": "xN2CytI6DR8c"
      },
      "execution_count": null,
      "outputs": []
    },
    {
      "cell_type": "code",
      "source": [
        "pd.options.plotting.backend='plotly'\n",
        "df.plot(x=\"Marca\", y=\"HP\", kind=outrosTipos)"
      ],
      "metadata": {
        "id": "WgA1Xoqc5jMz"
      },
      "execution_count": null,
      "outputs": []
    },
    {
      "cell_type": "markdown",
      "source": [
        "1) Elaborar um gráfico com o consumo médio dos carros, agrupado por Marca."
      ],
      "metadata": {
        "id": "LfN_w7kQWydH"
      }
    },
    {
      "cell_type": "markdown",
      "source": [
        "2) Elabore um gráfico do tipo 'Pizza', com as quantidades de veículos POR 'Origem'. A biblioteca 'plotly', não suporta gráficos de pizza, use a biblioteca\n",
        "'matplotlib'."
      ],
      "metadata": {
        "id": "HHrbDvVIhwlK"
      }
    },
    {
      "cell_type": "markdown",
      "source": [
        "3) Elabore um gráfico de Histograma com os HP dos veículos Asiáticos. Use a biblioteca 'plotly'."
      ],
      "metadata": {
        "id": "rP6v7wF4iew1"
      }
    },
    {
      "cell_type": "markdown",
      "source": [
        "4) Elabore um gráfico de Área das 'Acelerações de 0 á 400mts' dos carros do    'Ano' de 1978 com Potência maior ou igual a 100 HP."
      ],
      "metadata": {
        "id": "Q0ozt3mpieev"
      }
    },
    {
      "cell_type": "markdown",
      "source": [],
      "metadata": {
        "id": "GCA3RXeEieI3"
      }
    },
    {
      "cell_type": "markdown",
      "source": [],
      "metadata": {
        "id": "_lAQq6qlqJJZ"
      }
    },
    {
      "cell_type": "markdown",
      "source": [],
      "metadata": {
        "id": "XN3JfM-fqI_J"
      }
    },
    {
      "cell_type": "markdown",
      "source": [],
      "metadata": {
        "id": "pb1_6ASRq1ur"
      }
    },
    {
      "cell_type": "markdown",
      "source": [],
      "metadata": {
        "id": "x0l7KgQ7qIsz"
      }
    },
    {
      "cell_type": "code",
      "source": [
        "#1) Elaborar um gráfico com o consumo médio dos carros, agrupado por Marca.\n",
        "MPG=df.groupby([\"Marca\"])[\"MPG\"].mean()\n",
        "MPG.to_csv(\"temp1.csv\")\n",
        "MPGdf = pd.read_csv(\"temp1.csv\")\n",
        "MPGdf.plot(x=\"Marca\", y=\"MPG\", kind=\"bar\")"
      ],
      "metadata": {
        "id": "YsUVIfCoXI7u",
        "colab": {
          "base_uri": "https://localhost:8080/",
          "height": 394
        },
        "outputId": "d3a193e4-a7de-479c-84c8-fc16b1fa4ed1"
      },
      "execution_count": 67,
      "outputs": [
        {
          "output_type": "execute_result",
          "data": {
            "text/plain": [
              "<matplotlib.axes._subplots.AxesSubplot at 0x7f24d4fbf5b0>"
            ]
          },
          "metadata": {},
          "execution_count": 67
        },
        {
          "output_type": "display_data",
          "data": {
            "text/plain": [
              "<Figure size 432x288 with 1 Axes>"
            ],
            "image/png": "[encoded data removed]"
          },
          "metadata": {}
        }
      ]
    },
    {
      "cell_type": "code",
      "source": [
        "#2) Elabore um gráfico do tipo 'Pizza', com as quantidades de veículos POR \n",
        "#   'Origem'.\n",
        "pd.options.plotting.backend='matplotlib'\n",
        "Origem=df.groupby([\"Origem\"]).count()\n",
        "Origem.plot(x=\"Origem\", y=\"Marca\", kind=\"pie\")"
      ],
      "metadata": {
        "id": "0D-jt30gfEu3",
        "colab": {
          "base_uri": "https://localhost:8080/",
          "height": 265
        },
        "outputId": "4d453d69-0f6e-4907-b9a9-93716aaf5c0a"
      },
      "execution_count": 68,
      "outputs": [
        {
          "output_type": "execute_result",
          "data": {
            "text/plain": [
              "<matplotlib.axes._subplots.AxesSubplot at 0x7f24d69d6400>"
            ]
          },
          "metadata": {},
          "execution_count": 68
        },
        {
          "output_type": "display_data",
          "data": {
            "text/plain": [
              "<Figure size 432x288 with 1 Axes>"
            ],
            "image/png": "[encoded data removed]"
          },
          "metadata": {}
        }
      ]
    },
    {
      "cell_type": "code",
      "source": [
        "#3) Elabore um gráfico de Histograma com os HP dos veículos Asiáticos.\n",
        "pd.options.plotting.backend='plotly'\n",
        "Asia=df.loc[df[\"Origem\"]==\"Asia\"]\n",
        "Asia.plot(x=\"Marca\", y=\"HP\", kind=\"hist\")"
      ],
      "metadata": {
        "id": "mK26JLwtjO0C",
        "colab": {
          "base_uri": "https://localhost:8080/",
          "height": 542
        },
        "outputId": "71a3fa06-5366-418b-e7b3-87014b38757e"
      },
      "execution_count": 69,
      "outputs": [
        {
          "output_type": "display_data",
          "data": {
            "text/html": [
              "<html>\n",
              "<head><meta charset=\"utf-8\" /></head>\n",
              "<body>\n",
              "    <div>            <script src=\"https://cdnjs.cloudflare.com/ajax/libs/mathjax/2.7.5/MathJax.js?config=TeX-AMS-MML_SVG\"></script><script type=\"text/javascript\">if (window.MathJax) {MathJax.Hub.Config({SVG: {font: \"STIX-Web\"}});}</script>                <script type=\"text/javascript\">window.PlotlyConfig = {MathJaxConfig: 'local'};</script>\n",
              "        <script src=\"https://cdn.plot.ly/plotly-2.8.3.min.js\"></script>                <div id=\"c1e627a0-b609-41c0-b25c-e490a3fb0afa\" class=\"plotly-graph-div\" style=\"height:525px; width:100%;\"></div>            <script type=\"text/javascript\">                                    window.PLOTLYENV=window.PLOTLYENV || {};                                    if (document.getElementById(\"c1e627a0-b609-41c0-b25c-e490a3fb0afa\")) {                    Plotly.newPlot(                        \"c1e627a0-b609-41c0-b25c-e490a3fb0afa\",                        [{\"alignmentgroup\":\"True\",\"bingroup\":\"x\",\"histfunc\":\"sum\",\"hovertemplate\":\"Marca=%{x}<br>sum of HP=%{y}<extra></extra>\",\"legendgroup\":\"\",\"marker\":{\"color\":\"#636efa\",\"pattern\":{\"shape\":\"\"}},\"name\":\"\",\"offsetgroup\":\"\",\"orientation\":\"v\",\"showlegend\":false,\"x\":[\"toyota\",\"datsun\",\"datsun\",\"toyota\",\"toyota\",\"datsun\",\"toyota\",\"mazda\",\"datsun\",\"toyota\",\"toyota\",\"toyota\",\"datsun\",\"mazda\",\"toyota\",\"datsun\",\"toyota\",\"toyota\",\"datsun\",\"honda\",\"subaru\",\"toyota\",\"toyota\",\"datsun\",\"honda\",\"honda\",\"datsun\",\"toyota\",\"toyota\",\"honda\",\"datsun\",\"toyota\",\"subaru\",\"datsun\",\"mazda\",\"mazda\",\"datsun\",\"honda\",\"toyota\",\"datsun\",\"toyota\",\"datsun\",\"honda\",\"mazda\",\"datsun\",\"toyota\",\"datsun\",\"toyota\",\"mazda\",\"datsun\",\"toyota\",\"mazda\",\"datsun\",\"honda\",\"subaru\",\"datsun\",\"mazda\",\"honda\",\"toyota\",\"honda\",\"subaru\",\"datsun\",\"toyota\",\"mazda\",\"honda\",\"toyota\",\"datsun\",\"mazda\",\"toyota\",\"datsun\",\"mazda\",\"mazda\",\"nissan\",\"honda\",\"toyota\",\"honda\",\"honda\",\"datsun\",\"toyota\"],\"xaxis\":\"x\",\"y\":[95,88,88,95,65,69,95,97,92,97,88,88,94,90,122,67,65,52,61,97,93,75,96,97,53,53,70,75,108,68,70,75,67,97,110,52,70,60,95,97,95,97,68,65,65,60,65,90,75,92,75,65,65,67,67,132,100,72,58,60,67,65,62,68,75,75,100,74,116,120,68,68,88,75,70,67,67,67,96],\"yaxis\":\"y\",\"type\":\"histogram\"}],                        {\"template\":{\"data\":{\"bar\":[{\"error_x\":{\"color\":\"#2a3f5f\"},\"error_y\":{\"color\":\"#2a3f5f\"},\"marker\":{\"line\":{\"color\":\"#E5ECF6\",\"width\":0.5},\"pattern\":{\"fillmode\":\"overlay\",\"size\":10,\"solidity\":0.2}},\"type\":\"bar\"}],\"barpolar\":[{\"marker\":{\"line\":{\"color\":\"#E5ECF6\",\"width\":0.5},\"pattern\":{\"fillmode\":\"overlay\",\"size\":10,\"solidity\":0.2}},\"type\":\"barpolar\"}],\"carpet\":[{\"aaxis\":{\"endlinecolor\":\"#2a3f5f\",\"gridcolor\":\"white\",\"linecolor\":\"white\",\"minorgridcolor\":\"white\",\"startlinecolor\":\"#2a3f5f\"},\"baxis\":{\"endlinecolor\":\"#2a3f5f\",\"gridcolor\":\"white\",\"linecolor\":\"white\",\"minorgridcolor\":\"white\",\"startlinecolor\":\"#2a3f5f\"},\"type\":\"carpet\"}],\"choropleth\":[{\"colorbar\":{\"outlinewidth\":0,\"ticks\":\"\"},\"type\":\"choropleth\"}],\"contour\":[{\"colorbar\":{\"outlinewidth\":0,\"ticks\":\"\"},\"colorscale\":[[0.0,\"#0d0887\"],[0.1111111111111111,\"#46039f\"],[0.2222222222222222,\"#7201a8\"],[0.3333333333333333,\"#9c179e\"],[0.4444444444444444,\"#bd3786\"],[0.5555555555555556,\"#d8576b\"],[0.6666666666666666,\"#ed7953\"],[0.7777777777777778,\"#fb9f3a\"],[0.8888888888888888,\"#fdca26\"],[1.0,\"#f0f921\"]],\"type\":\"contour\"}],\"contourcarpet\":[{\"colorbar\":{\"outlinewidth\":0,\"ticks\":\"\"},\"type\":\"contourcarpet\"}],\"heatmap\":[{\"colorbar\":{\"outlinewidth\":0,\"ticks\":\"\"},\"colorscale\":[[0.0,\"#0d0887\"],[0.1111111111111111,\"#46039f\"],[0.2222222222222222,\"#7201a8\"],[0.3333333333333333,\"#9c179e\"],[0.4444444444444444,\"#bd3786\"],[0.5555555555555556,\"#d8576b\"],[0.6666666666666666,\"#ed7953\"],[0.7777777777777778,\"#fb9f3a\"],[0.8888888888888888,\"#fdca26\"],[1.0,\"#f0f921\"]],\"type\":\"heatmap\"}],\"heatmapgl\":[{\"colorbar\":{\"outlinewidth\":0,\"ticks\":\"\"},\"colorscale\":[[0.0,\"#0d0887\"],[0.1111111111111111,\"#46039f\"],[0.2222222222222222,\"#7201a8\"],[0.3333333333333333,\"#9c179e\"],[0.4444444444444444,\"#bd3786\"],[0.5555555555555556,\"#d8576b\"],[0.6666666666666666,\"#ed7953\"],[0.7777777777777778,\"#fb9f3a\"],[0.8888888888888888,\"#fdca26\"],[1.0,\"#f0f921\"]],\"type\":\"heatmapgl\"}],\"histogram\":[{\"marker\":{\"pattern\":{\"fillmode\":\"overlay\",\"size\":10,\"solidity\":0.2}},\"type\":\"histogram\"}],\"histogram2d\":[{\"colorbar\":{\"outlinewidth\":0,\"ticks\":\"\"},\"colorscale\":[[0.0,\"#0d0887\"],[0.1111111111111111,\"#46039f\"],[0.2222222222222222,\"#7201a8\"],[0.3333333333333333,\"#9c179e\"],[0.4444444444444444,\"#bd3786\"],[0.5555555555555556,\"#d8576b\"],[0.6666666666666666,\"#ed7953\"],[0.7777777777777778,\"#fb9f3a\"],[0.8888888888888888,\"#fdca26\"],[1.0,\"#f0f921\"]],\"type\":\"histogram2d\"}],\"histogram2dcontour\":[{\"colorbar\":{\"outlinewidth\":0,\"ticks\":\"\"},\"colorscale\":[[0.0,\"#0d0887\"],[0.1111111111111111,\"#46039f\"],[0.2222222222222222,\"#7201a8\"],[0.3333333333333333,\"#9c179e\"],[0.4444444444444444,\"#bd3786\"],[0.5555555555555556,\"#d8576b\"],[0.6666666666666666,\"#ed7953\"],[0.7777777777777778,\"#fb9f3a\"],[0.8888888888888888,\"#fdca26\"],[1.0,\"#f0f921\"]],\"type\":\"histogram2dcontour\"}],\"mesh3d\":[{\"colorbar\":{\"outlinewidth\":0,\"ticks\":\"\"},\"type\":\"mesh3d\"}],\"parcoords\":[{\"line\":{\"colorbar\":{\"outlinewidth\":0,\"ticks\":\"\"}},\"type\":\"parcoords\"}],\"pie\":[{\"automargin\":true,\"type\":\"pie\"}],\"scatter\":[{\"marker\":{\"colorbar\":{\"outlinewidth\":0,\"ticks\":\"\"}},\"type\":\"scatter\"}],\"scatter3d\":[{\"line\":{\"colorbar\":{\"outlinewidth\":0,\"ticks\":\"\"}},\"marker\":{\"colorbar\":{\"outlinewidth\":0,\"ticks\":\"\"}},\"type\":\"scatter3d\"}],\"scattercarpet\":[{\"marker\":{\"colorbar\":{\"outlinewidth\":0,\"ticks\":\"\"}},\"type\":\"scattercarpet\"}],\"scattergeo\":[{\"marker\":{\"colorbar\":{\"outlinewidth\":0,\"ticks\":\"\"}},\"type\":\"scattergeo\"}],\"scattergl\":[{\"marker\":{\"colorbar\":{\"outlinewidth\":0,\"ticks\":\"\"}},\"type\":\"scattergl\"}],\"scattermapbox\":[{\"marker\":{\"colorbar\":{\"outlinewidth\":0,\"ticks\":\"\"}},\"type\":\"scattermapbox\"}],\"scatterpolar\":[{\"marker\":{\"colorbar\":{\"outlinewidth\":0,\"ticks\":\"\"}},\"type\":\"scatterpolar\"}],\"scatterpolargl\":[{\"marker\":{\"colorbar\":{\"outlinewidth\":0,\"ticks\":\"\"}},\"type\":\"scatterpolargl\"}],\"scatterternary\":[{\"marker\":{\"colorbar\":{\"outlinewidth\":0,\"ticks\":\"\"}},\"type\":\"scatterternary\"}],\"surface\":[{\"colorbar\":{\"outlinewidth\":0,\"ticks\":\"\"},\"colorscale\":[[0.0,\"#0d0887\"],[0.1111111111111111,\"#46039f\"],[0.2222222222222222,\"#7201a8\"],[0.3333333333333333,\"#9c179e\"],[0.4444444444444444,\"#bd3786\"],[0.5555555555555556,\"#d8576b\"],[0.6666666666666666,\"#ed7953\"],[0.7777777777777778,\"#fb9f3a\"],[0.8888888888888888,\"#fdca26\"],[1.0,\"#f0f921\"]],\"type\":\"surface\"}],\"table\":[{\"cells\":{\"fill\":{\"color\":\"#EBF0F8\"},\"line\":{\"color\":\"white\"}},\"header\":{\"fill\":{\"color\":\"#C8D4E3\"},\"line\":{\"color\":\"white\"}},\"type\":\"table\"}]},\"layout\":{\"annotationdefaults\":{\"arrowcolor\":\"#2a3f5f\",\"arrowhead\":0,\"arrowwidth\":1},\"autotypenumbers\":\"strict\",\"coloraxis\":{\"colorbar\":{\"outlinewidth\":0,\"ticks\":\"\"}},\"colorscale\":{\"diverging\":[[0,\"#8e0152\"],[0.1,\"#c51b7d\"],[0.2,\"#de77ae\"],[0.3,\"#f1b6da\"],[0.4,\"#fde0ef\"],[0.5,\"#f7f7f7\"],[0.6,\"#e6f5d0\"],[0.7,\"#b8e186\"],[0.8,\"#7fbc41\"],[0.9,\"#4d9221\"],[1,\"#276419\"]],\"sequential\":[[0.0,\"#0d0887\"],[0.1111111111111111,\"#46039f\"],[0.2222222222222222,\"#7201a8\"],[0.3333333333333333,\"#9c179e\"],[0.4444444444444444,\"#bd3786\"],[0.5555555555555556,\"#d8576b\"],[0.6666666666666666,\"#ed7953\"],[0.7777777777777778,\"#fb9f3a\"],[0.8888888888888888,\"#fdca26\"],[1.0,\"#f0f921\"]],\"sequentialminus\":[[0.0,\"#0d0887\"],[0.1111111111111111,\"#46039f\"],[0.2222222222222222,\"#7201a8\"],[0.3333333333333333,\"#9c179e\"],[0.4444444444444444,\"#bd3786\"],[0.5555555555555556,\"#d8576b\"],[0.6666666666666666,\"#ed7953\"],[0.7777777777777778,\"#fb9f3a\"],[0.8888888888888888,\"#fdca26\"],[1.0,\"#f0f921\"]]},\"colorway\":[\"#636efa\",\"#EF553B\",\"#00cc96\",\"#ab63fa\",\"#FFA15A\",\"#19d3f3\",\"#FF6692\",\"#B6E880\",\"#FF97FF\",\"#FECB52\"],\"font\":{\"color\":\"#2a3f5f\"},\"geo\":{\"bgcolor\":\"white\",\"lakecolor\":\"white\",\"landcolor\":\"#E5ECF6\",\"showlakes\":true,\"showland\":true,\"subunitcolor\":\"white\"},\"hoverlabel\":{\"align\":\"left\"},\"hovermode\":\"closest\",\"mapbox\":{\"style\":\"light\"},\"paper_bgcolor\":\"white\",\"plot_bgcolor\":\"#E5ECF6\",\"polar\":{\"angularaxis\":{\"gridcolor\":\"white\",\"linecolor\":\"white\",\"ticks\":\"\"},\"bgcolor\":\"#E5ECF6\",\"radialaxis\":{\"gridcolor\":\"white\",\"linecolor\":\"white\",\"ticks\":\"\"}},\"scene\":{\"xaxis\":{\"backgroundcolor\":\"#E5ECF6\",\"gridcolor\":\"white\",\"gridwidth\":2,\"linecolor\":\"white\",\"showbackground\":true,\"ticks\":\"\",\"zerolinecolor\":\"white\"},\"yaxis\":{\"backgroundcolor\":\"#E5ECF6\",\"gridcolor\":\"white\",\"gridwidth\":2,\"linecolor\":\"white\",\"showbackground\":true,\"ticks\":\"\",\"zerolinecolor\":\"white\"},\"zaxis\":{\"backgroundcolor\":\"#E5ECF6\",\"gridcolor\":\"white\",\"gridwidth\":2,\"linecolor\":\"white\",\"showbackground\":true,\"ticks\":\"\",\"zerolinecolor\":\"white\"}},\"shapedefaults\":{\"line\":{\"color\":\"#2a3f5f\"}},\"ternary\":{\"aaxis\":{\"gridcolor\":\"white\",\"linecolor\":\"white\",\"ticks\":\"\"},\"baxis\":{\"gridcolor\":\"white\",\"linecolor\":\"white\",\"ticks\":\"\"},\"bgcolor\":\"#E5ECF6\",\"caxis\":{\"gridcolor\":\"white\",\"linecolor\":\"white\",\"ticks\":\"\"}},\"title\":{\"x\":0.05},\"xaxis\":{\"automargin\":true,\"gridcolor\":\"white\",\"linecolor\":\"white\",\"ticks\":\"\",\"title\":{\"standoff\":15},\"zerolinecolor\":\"white\",\"zerolinewidth\":2},\"yaxis\":{\"automargin\":true,\"gridcolor\":\"white\",\"linecolor\":\"white\",\"ticks\":\"\",\"title\":{\"standoff\":15},\"zerolinecolor\":\"white\",\"zerolinewidth\":2}}},\"xaxis\":{\"anchor\":\"y\",\"domain\":[0.0,1.0],\"title\":{\"text\":\"Marca\"}},\"yaxis\":{\"anchor\":\"x\",\"domain\":[0.0,1.0],\"title\":{\"text\":\"sum of HP\"}},\"legend\":{\"tracegroupgap\":0},\"margin\":{\"t\":60},\"barmode\":\"relative\"},                        {\"responsive\": true}                    ).then(function(){\n",
              "                            \n",
              "var gd = document.getElementById('c1e627a0-b609-41c0-b25c-e490a3fb0afa');\n",
              "var x = new MutationObserver(function (mutations, observer) {{\n",
              "        var display = window.getComputedStyle(gd).display;\n",
              "        if (!display || display === 'none') {{\n",
              "            console.log([gd, 'removed!']);\n",
              "            Plotly.purge(gd);\n",
              "            observer.disconnect();\n",
              "        }}\n",
              "}});\n",
              "\n",
              "// Listen for the removal of the full notebook cells\n",
              "var notebookContainer = gd.closest('#notebook-container');\n",
              "if (notebookContainer) {{\n",
              "    x.observe(notebookContainer, {childList: true});\n",
              "}}\n",
              "\n",
              "// Listen for the clearing of the current output cell\n",
              "var outputEl = gd.closest('.output');\n",
              "if (outputEl) {{\n",
              "    x.observe(outputEl, {childList: true});\n",
              "}}\n",
              "\n",
              "                        })                };                            </script>        </div>\n",
              "</body>\n",
              "</html>"
            ]
          },
          "metadata": {}
        }
      ]
    },
    {
      "cell_type": "code",
      "source": [
        "# 4) Elabore um gráfico de Área das 'Acelerações de 0 á 400mts' dos carros do\n",
        "#    'Ano' de 1978 com Potência maior ou igual a 100 HP.\n",
        "Linha=(df.loc[(df[\"Ano\"]==78) & (df[\"HP\"]>=100)])\n",
        "Linha.plot(x=\"Modelo\", y=\"Acel\", kind=\"area\")"
      ],
      "metadata": {
        "id": "jAjW5pfam9xM",
        "colab": {
          "base_uri": "https://localhost:8080/",
          "height": 542
        },
        "outputId": "dcaca196-2244-42ec-c769-8f663a2e57f4"
      },
      "execution_count": 70,
      "outputs": [
        {
          "output_type": "display_data",
          "data": {
            "text/html": [
              "<html>\n",
              "<head><meta charset=\"utf-8\" /></head>\n",
              "<body>\n",
              "    <div>            <script src=\"https://cdnjs.cloudflare.com/ajax/libs/mathjax/2.7.5/MathJax.js?config=TeX-AMS-MML_SVG\"></script><script type=\"text/javascript\">if (window.MathJax) {MathJax.Hub.Config({SVG: {font: \"STIX-Web\"}});}</script>                <script type=\"text/javascript\">window.PlotlyConfig = {MathJaxConfig: 'local'};</script>\n",
              "        <script src=\"https://cdn.plot.ly/plotly-2.8.3.min.js\"></script>                <div id=\"4a59bd58-16a3-4315-9c2e-fd9515cc351f\" class=\"plotly-graph-div\" style=\"height:525px; width:100%;\"></div>            <script type=\"text/javascript\">                                    window.PLOTLYENV=window.PLOTLYENV || {};                                    if (document.getElementById(\"4a59bd58-16a3-4315-9c2e-fd9515cc351f\")) {                    Plotly.newPlot(                        \"4a59bd58-16a3-4315-9c2e-fd9515cc351f\",                        [{\"hovertemplate\":\"Modelo=%{x}<br>Acel=%{y}<extra></extra>\",\"legendgroup\":\"\",\"line\":{\"color\":\"#636efa\"},\"marker\":{\"symbol\":\"circle\"},\"mode\":\"lines\",\"name\":\"\",\"orientation\":\"v\",\"showlegend\":false,\"stackgroup\":\"1\",\"x\":[\"oldsmobile cutlass salon brougham\",\"dodge diplomat\",\"mercury monarch ghia\",\"pontiac phoenix lj\",\"plymouth volare\",\"buick century special\",\"dodge aspen\",\"amc concord d/l\",\"chevrolet monte carlo landau\",\"buick regal sport coupe (turbo)\",\"ford futura\",\"dodge magnum xe\",\"plymouth sapporo\",\"audi 5000\",\"volvo 264gl\",\"saab 99gle\",\"peugeot 604sl\"],\"xaxis\":\"x\",\"y\":[15.5,13.2,12.8,19.2,17.2,15.8,18.7,15.1,13.2,13.4,11.2,13.7,16.7,15.9,13.6,15.7,15.8],\"yaxis\":\"y\",\"type\":\"scatter\"}],                        {\"template\":{\"data\":{\"bar\":[{\"error_x\":{\"color\":\"#2a3f5f\"},\"error_y\":{\"color\":\"#2a3f5f\"},\"marker\":{\"line\":{\"color\":\"#E5ECF6\",\"width\":0.5},\"pattern\":{\"fillmode\":\"overlay\",\"size\":10,\"solidity\":0.2}},\"type\":\"bar\"}],\"barpolar\":[{\"marker\":{\"line\":{\"color\":\"#E5ECF6\",\"width\":0.5},\"pattern\":{\"fillmode\":\"overlay\",\"size\":10,\"solidity\":0.2}},\"type\":\"barpolar\"}],\"carpet\":[{\"aaxis\":{\"endlinecolor\":\"#2a3f5f\",\"gridcolor\":\"white\",\"linecolor\":\"white\",\"minorgridcolor\":\"white\",\"startlinecolor\":\"#2a3f5f\"},\"baxis\":{\"endlinecolor\":\"#2a3f5f\",\"gridcolor\":\"white\",\"linecolor\":\"white\",\"minorgridcolor\":\"white\",\"startlinecolor\":\"#2a3f5f\"},\"type\":\"carpet\"}],\"choropleth\":[{\"colorbar\":{\"outlinewidth\":0,\"ticks\":\"\"},\"type\":\"choropleth\"}],\"contour\":[{\"colorbar\":{\"outlinewidth\":0,\"ticks\":\"\"},\"colorscale\":[[0.0,\"#0d0887\"],[0.1111111111111111,\"#46039f\"],[0.2222222222222222,\"#7201a8\"],[0.3333333333333333,\"#9c179e\"],[0.4444444444444444,\"#bd3786\"],[0.5555555555555556,\"#d8576b\"],[0.6666666666666666,\"#ed7953\"],[0.7777777777777778,\"#fb9f3a\"],[0.8888888888888888,\"#fdca26\"],[1.0,\"#f0f921\"]],\"type\":\"contour\"}],\"contourcarpet\":[{\"colorbar\":{\"outlinewidth\":0,\"ticks\":\"\"},\"type\":\"contourcarpet\"}],\"heatmap\":[{\"colorbar\":{\"outlinewidth\":0,\"ticks\":\"\"},\"colorscale\":[[0.0,\"#0d0887\"],[0.1111111111111111,\"#46039f\"],[0.2222222222222222,\"#7201a8\"],[0.3333333333333333,\"#9c179e\"],[0.4444444444444444,\"#bd3786\"],[0.5555555555555556,\"#d8576b\"],[0.6666666666666666,\"#ed7953\"],[0.7777777777777778,\"#fb9f3a\"],[0.8888888888888888,\"#fdca26\"],[1.0,\"#f0f921\"]],\"type\":\"heatmap\"}],\"heatmapgl\":[{\"colorbar\":{\"outlinewidth\":0,\"ticks\":\"\"},\"colorscale\":[[0.0,\"#0d0887\"],[0.1111111111111111,\"#46039f\"],[0.2222222222222222,\"#7201a8\"],[0.3333333333333333,\"#9c179e\"],[0.4444444444444444,\"#bd3786\"],[0.5555555555555556,\"#d8576b\"],[0.6666666666666666,\"#ed7953\"],[0.7777777777777778,\"#fb9f3a\"],[0.8888888888888888,\"#fdca26\"],[1.0,\"#f0f921\"]],\"type\":\"heatmapgl\"}],\"histogram\":[{\"marker\":{\"pattern\":{\"fillmode\":\"overlay\",\"size\":10,\"solidity\":0.2}},\"type\":\"histogram\"}],\"histogram2d\":[{\"colorbar\":{\"outlinewidth\":0,\"ticks\":\"\"},\"colorscale\":[[0.0,\"#0d0887\"],[0.1111111111111111,\"#46039f\"],[0.2222222222222222,\"#7201a8\"],[0.3333333333333333,\"#9c179e\"],[0.4444444444444444,\"#bd3786\"],[0.5555555555555556,\"#d8576b\"],[0.6666666666666666,\"#ed7953\"],[0.7777777777777778,\"#fb9f3a\"],[0.8888888888888888,\"#fdca26\"],[1.0,\"#f0f921\"]],\"type\":\"histogram2d\"}],\"histogram2dcontour\":[{\"colorbar\":{\"outlinewidth\":0,\"ticks\":\"\"},\"colorscale\":[[0.0,\"#0d0887\"],[0.1111111111111111,\"#46039f\"],[0.2222222222222222,\"#7201a8\"],[0.3333333333333333,\"#9c179e\"],[0.4444444444444444,\"#bd3786\"],[0.5555555555555556,\"#d8576b\"],[0.6666666666666666,\"#ed7953\"],[0.7777777777777778,\"#fb9f3a\"],[0.8888888888888888,\"#fdca26\"],[1.0,\"#f0f921\"]],\"type\":\"histogram2dcontour\"}],\"mesh3d\":[{\"colorbar\":{\"outlinewidth\":0,\"ticks\":\"\"},\"type\":\"mesh3d\"}],\"parcoords\":[{\"line\":{\"colorbar\":{\"outlinewidth\":0,\"ticks\":\"\"}},\"type\":\"parcoords\"}],\"pie\":[{\"automargin\":true,\"type\":\"pie\"}],\"scatter\":[{\"marker\":{\"colorbar\":{\"outlinewidth\":0,\"ticks\":\"\"}},\"type\":\"scatter\"}],\"scatter3d\":[{\"line\":{\"colorbar\":{\"outlinewidth\":0,\"ticks\":\"\"}},\"marker\":{\"colorbar\":{\"outlinewidth\":0,\"ticks\":\"\"}},\"type\":\"scatter3d\"}],\"scattercarpet\":[{\"marker\":{\"colorbar\":{\"outlinewidth\":0,\"ticks\":\"\"}},\"type\":\"scattercarpet\"}],\"scattergeo\":[{\"marker\":{\"colorbar\":{\"outlinewidth\":0,\"ticks\":\"\"}},\"type\":\"scattergeo\"}],\"scattergl\":[{\"marker\":{\"colorbar\":{\"outlinewidth\":0,\"ticks\":\"\"}},\"type\":\"scattergl\"}],\"scattermapbox\":[{\"marker\":{\"colorbar\":{\"outlinewidth\":0,\"ticks\":\"\"}},\"type\":\"scattermapbox\"}],\"scatterpolar\":[{\"marker\":{\"colorbar\":{\"outlinewidth\":0,\"ticks\":\"\"}},\"type\":\"scatterpolar\"}],\"scatterpolargl\":[{\"marker\":{\"colorbar\":{\"outlinewidth\":0,\"ticks\":\"\"}},\"type\":\"scatterpolargl\"}],\"scatterternary\":[{\"marker\":{\"colorbar\":{\"outlinewidth\":0,\"ticks\":\"\"}},\"type\":\"scatterternary\"}],\"surface\":[{\"colorbar\":{\"outlinewidth\":0,\"ticks\":\"\"},\"colorscale\":[[0.0,\"#0d0887\"],[0.1111111111111111,\"#46039f\"],[0.2222222222222222,\"#7201a8\"],[0.3333333333333333,\"#9c179e\"],[0.4444444444444444,\"#bd3786\"],[0.5555555555555556,\"#d8576b\"],[0.6666666666666666,\"#ed7953\"],[0.7777777777777778,\"#fb9f3a\"],[0.8888888888888888,\"#fdca26\"],[1.0,\"#f0f921\"]],\"type\":\"surface\"}],\"table\":[{\"cells\":{\"fill\":{\"color\":\"#EBF0F8\"},\"line\":{\"color\":\"white\"}},\"header\":{\"fill\":{\"color\":\"#C8D4E3\"},\"line\":{\"color\":\"white\"}},\"type\":\"table\"}]},\"layout\":{\"annotationdefaults\":{\"arrowcolor\":\"#2a3f5f\",\"arrowhead\":0,\"arrowwidth\":1},\"autotypenumbers\":\"strict\",\"coloraxis\":{\"colorbar\":{\"outlinewidth\":0,\"ticks\":\"\"}},\"colorscale\":{\"diverging\":[[0,\"#8e0152\"],[0.1,\"#c51b7d\"],[0.2,\"#de77ae\"],[0.3,\"#f1b6da\"],[0.4,\"#fde0ef\"],[0.5,\"#f7f7f7\"],[0.6,\"#e6f5d0\"],[0.7,\"#b8e186\"],[0.8,\"#7fbc41\"],[0.9,\"#4d9221\"],[1,\"#276419\"]],\"sequential\":[[0.0,\"#0d0887\"],[0.1111111111111111,\"#46039f\"],[0.2222222222222222,\"#7201a8\"],[0.3333333333333333,\"#9c179e\"],[0.4444444444444444,\"#bd3786\"],[0.5555555555555556,\"#d8576b\"],[0.6666666666666666,\"#ed7953\"],[0.7777777777777778,\"#fb9f3a\"],[0.8888888888888888,\"#fdca26\"],[1.0,\"#f0f921\"]],\"sequentialminus\":[[0.0,\"#0d0887\"],[0.1111111111111111,\"#46039f\"],[0.2222222222222222,\"#7201a8\"],[0.3333333333333333,\"#9c179e\"],[0.4444444444444444,\"#bd3786\"],[0.5555555555555556,\"#d8576b\"],[0.6666666666666666,\"#ed7953\"],[0.7777777777777778,\"#fb9f3a\"],[0.8888888888888888,\"#fdca26\"],[1.0,\"#f0f921\"]]},\"colorway\":[\"#636efa\",\"#EF553B\",\"#00cc96\",\"#ab63fa\",\"#FFA15A\",\"#19d3f3\",\"#FF6692\",\"#B6E880\",\"#FF97FF\",\"#FECB52\"],\"font\":{\"color\":\"#2a3f5f\"},\"geo\":{\"bgcolor\":\"white\",\"lakecolor\":\"white\",\"landcolor\":\"#E5ECF6\",\"showlakes\":true,\"showland\":true,\"subunitcolor\":\"white\"},\"hoverlabel\":{\"align\":\"left\"},\"hovermode\":\"closest\",\"mapbox\":{\"style\":\"light\"},\"paper_bgcolor\":\"white\",\"plot_bgcolor\":\"#E5ECF6\",\"polar\":{\"angularaxis\":{\"gridcolor\":\"white\",\"linecolor\":\"white\",\"ticks\":\"\"},\"bgcolor\":\"#E5ECF6\",\"radialaxis\":{\"gridcolor\":\"white\",\"linecolor\":\"white\",\"ticks\":\"\"}},\"scene\":{\"xaxis\":{\"backgroundcolor\":\"#E5ECF6\",\"gridcolor\":\"white\",\"gridwidth\":2,\"linecolor\":\"white\",\"showbackground\":true,\"ticks\":\"\",\"zerolinecolor\":\"white\"},\"yaxis\":{\"backgroundcolor\":\"#E5ECF6\",\"gridcolor\":\"white\",\"gridwidth\":2,\"linecolor\":\"white\",\"showbackground\":true,\"ticks\":\"\",\"zerolinecolor\":\"white\"},\"zaxis\":{\"backgroundcolor\":\"#E5ECF6\",\"gridcolor\":\"white\",\"gridwidth\":2,\"linecolor\":\"white\",\"showbackground\":true,\"ticks\":\"\",\"zerolinecolor\":\"white\"}},\"shapedefaults\":{\"line\":{\"color\":\"#2a3f5f\"}},\"ternary\":{\"aaxis\":{\"gridcolor\":\"white\",\"linecolor\":\"white\",\"ticks\":\"\"},\"baxis\":{\"gridcolor\":\"white\",\"linecolor\":\"white\",\"ticks\":\"\"},\"bgcolor\":\"#E5ECF6\",\"caxis\":{\"gridcolor\":\"white\",\"linecolor\":\"white\",\"ticks\":\"\"}},\"title\":{\"x\":0.05},\"xaxis\":{\"automargin\":true,\"gridcolor\":\"white\",\"linecolor\":\"white\",\"ticks\":\"\",\"title\":{\"standoff\":15},\"zerolinecolor\":\"white\",\"zerolinewidth\":2},\"yaxis\":{\"automargin\":true,\"gridcolor\":\"white\",\"linecolor\":\"white\",\"ticks\":\"\",\"title\":{\"standoff\":15},\"zerolinecolor\":\"white\",\"zerolinewidth\":2}}},\"xaxis\":{\"anchor\":\"y\",\"domain\":[0.0,1.0],\"title\":{\"text\":\"Modelo\"}},\"yaxis\":{\"anchor\":\"x\",\"domain\":[0.0,1.0],\"title\":{\"text\":\"Acel\"}},\"legend\":{\"tracegroupgap\":0},\"margin\":{\"t\":60}},                        {\"responsive\": true}                    ).then(function(){\n",
              "                            \n",
              "var gd = document.getElementById('4a59bd58-16a3-4315-9c2e-fd9515cc351f');\n",
              "var x = new MutationObserver(function (mutations, observer) {{\n",
              "        var display = window.getComputedStyle(gd).display;\n",
              "        if (!display || display === 'none') {{\n",
              "            console.log([gd, 'removed!']);\n",
              "            Plotly.purge(gd);\n",
              "            observer.disconnect();\n",
              "        }}\n",
              "}});\n",
              "\n",
              "// Listen for the removal of the full notebook cells\n",
              "var notebookContainer = gd.closest('#notebook-container');\n",
              "if (notebookContainer) {{\n",
              "    x.observe(notebookContainer, {childList: true});\n",
              "}}\n",
              "\n",
              "// Listen for the clearing of the current output cell\n",
              "var outputEl = gd.closest('.output');\n",
              "if (outputEl) {{\n",
              "    x.observe(outputEl, {childList: true});\n",
              "}}\n",
              "\n",
              "                        })                };                            </script>        </div>\n",
              "</body>\n",
              "</html>"
            ]
          },
          "metadata": {}
        }
      ]
    }
  ]
}