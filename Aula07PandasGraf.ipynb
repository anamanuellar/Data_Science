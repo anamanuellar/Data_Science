{
  "nbformat": 4,
  "nbformat_minor": 0,
  "metadata": {
    "colab": {
      "provenance": [],
      "collapsed_sections": []
    },
    "kernelspec": {
      "name": "python3",
      "display_name": "Python 3"
    },
    "language_info": {
      "name": "python"
    }
  },
  "cells": [
    {
      "cell_type": "code",
      "execution_count": null,
      "metadata": {
        "id": "Hn9odV8dp_b9"
      },
      "outputs": [],
      "source": [
        "import pandas as pd\n",
        "import matplotlib.pyplot as plt\n",
        "\n",
        "df = pd.read_csv(\"OldCars.csv\")"
      ]
    },
    {
      "cell_type": "code",
      "source": [
        "df"
      ],
      "metadata": {
        "id": "vbrz8Z4sy8NR"
      },
      "execution_count": null,
      "outputs": []
    },
    {
      "cell_type": "code",
      "source": [
        "# Tipos de Gráficos (PyPlot)\n",
        "tipos=[\"area\",\"bar\",\"barh\",\"box\",\"hist\", \"line\"] # \"hexbin\",\"density\",\"kde\",\"scatter\",\"pie\""
      ],
      "metadata": {
        "id": "4km6ec6vyiNK"
      },
      "execution_count": null,
      "outputs": []
    },
    {
      "cell_type": "code",
      "source": [
        "tipo = \"area\" #@param[\"area\",\"bar\",\"barh\",\"box\",\"hist\", \"line\",\"hexbin\",\"density\",\"kde\",\"scatter\",\"pie\"]"
      ],
      "metadata": {
        "id": "LZeAgENJy5tn"
      },
      "execution_count": null,
      "outputs": []
    },
    {
      "cell_type": "code",
      "source": [
        "pd.options.plotting.backend='matplotlib'\n",
        "df.plot(x=\"Ano\", y=[\"MPG\", \"Max\", \"Acel\"], kind=tipo )\n",
        "plt.show()"
      ],
      "metadata": {
        "id": "Klhwt8gOCwJ5"
      },
      "execution_count": null,
      "outputs": []
    },
    {
      "cell_type": "markdown",
      "source": [
        "Usando MatPlotLib..."
      ],
      "metadata": {
        "id": "BJbXLEr94CE1"
      }
    },
    {
      "cell_type": "code",
      "source": [
        "pd.options.plotting.backend='matplotlib'\n",
        "df.plot(x=\"Marca\", y=\"HP\", kind=\"bar\", stacked=True)"
      ],
      "metadata": {
        "id": "LYjG0_QD4FLt"
      },
      "execution_count": null,
      "outputs": []
    },
    {
      "cell_type": "markdown",
      "source": [
        "Usando Plotly..."
      ],
      "metadata": {
        "id": "KUfG5jTL2CZ2"
      }
    },
    {
      "cell_type": "code",
      "source": [
        "!pip install plotly==5.5"
      ],
      "metadata": {
        "id": "AAdxKxGs2JZa"
      },
      "execution_count": null,
      "outputs": []
    },
    {
      "cell_type": "code",
      "source": [
        "outrosTipos = \"bar\" #@param[\"area\",\"bar\",\"barh\",\"box\",\"hist\", \"line\"]"
      ],
      "metadata": {
        "id": "xN2CytI6DR8c"
      },
      "execution_count": null,
      "outputs": []
    },
    {
      "cell_type": "code",
      "source": [
        "pd.options.plotting.backend='plotly'\n",
        "df.plot(x=\"Marca\", y=\"HP\", kind=outrosTipos)"
      ],
      "metadata": {
        "id": "WgA1Xoqc5jMz"
      },
      "execution_count": null,
      "outputs": []
    },
    {
      "cell_type": "markdown",
      "source": [
        "1) Elaborar um gráfico com o consumo médio dos carros, agrupado por Marca."
      ],
      "metadata": {
        "id": "LfN_w7kQWydH"
      }
    },
    {
      "cell_type": "markdown",
      "source": [
        "2) Elabore um gráfico do tipo 'Pizza', com as quantidades de veículos POR 'Origem'. A biblioteca 'plotly', não suporta gráficos de pizza, use a biblioteca\n",
        "'matplotlib'."
      ],
      "metadata": {
        "id": "HHrbDvVIhwlK"
      }
    },
    {
      "cell_type": "markdown",
      "source": [
        "3) Elabore um gráfico de Histograma com os HP dos veículos Asiáticos. Use a biblioteca 'plotly'."
      ],
      "metadata": {
        "id": "rP6v7wF4iew1"
      }
    },
    {
      "cell_type": "markdown",
      "source": [
        "4) Elabore um gráfico de Área das 'Acelerações de 0 á 400mts' dos carros do    'Ano' de 1978 com Potência maior ou igual a 100 HP."
      ],
      "metadata": {
        "id": "Q0ozt3mpieev"
      }
    },
    {
      "cell_type": "markdown",
      "source": [],
      "metadata": {
        "id": "GCA3RXeEieI3"
      }
    },
    {
      "cell_type": "markdown",
      "source": [],
      "metadata": {
        "id": "_lAQq6qlqJJZ"
      }
    },
    {
      "cell_type": "markdown",
      "source": [],
      "metadata": {
        "id": "XN3JfM-fqI_J"
      }
    },
    {
      "cell_type": "markdown",
      "source": [],
      "metadata": {
        "id": "pb1_6ASRq1ur"
      }
    },
    {
      "cell_type": "markdown",
      "source": [],
      "metadata": {
        "id": "x0l7KgQ7qIsz"
      }
    },
    {
      "cell_type": "code",
      "source": [
        "#1) Elaborar um gráfico com o consumo médio dos carros, agrupado por Marca.\n",
        "MPG=df.groupby([\"Marca\"])[\"MPG\"].mean()\n",
        "MPG.to_csv(\"temp1.csv\")\n",
        "MPGdf = pd.read_csv(\"temp1.csv\")\n",
        "MPGdf.plot(x=\"Marca\", y=\"MPG\", kind=\"bar\")"
      ],
      "metadata": {
        "id": "YsUVIfCoXI7u"
      },
      "execution_count": null,
      "outputs": []
    },
    {
      "cell_type": "code",
      "source": [
        "#2) Elabore um gráfico do tipo 'Pizza', com as quantidades de veículos POR \n",
        "#   'Origem'.\n",
        "pd.options.plotting.backend='matplotlib'\n",
        "Origem=df.groupby([\"Origem\"]).count()\n",
        "Origem.plot(x=\"Origem\", y=\"Marca\", kind=\"pie\")"
      ],
      "metadata": {
        "id": "0D-jt30gfEu3"
      },
      "execution_count": null,
      "outputs": []
    },
    {
      "cell_type": "code",
      "source": [
        "#3) Elabore um gráfico de Histograma com os HP dos veículos Asiáticos.\n",
        "pd.options.plotting.backend='plotly'\n",
        "Asia=df.loc[df[\"Origem\"]==\"Asia\"]\n",
        "Asia.plot(x=\"Marca\", y=\"HP\", kind=\"hist\")"
      ],
      "metadata": {
        "id": "mK26JLwtjO0C"
      },
      "execution_count": null,
      "outputs": []
    },
    {
      "cell_type": "code",
      "source": [
        "# 4) Elabore um gráfico de Área das 'Acelerações de 0 á 400mts' dos carros do\n",
        "#    'Ano' de 1978 com Potência maior ou igual a 100 HP.\n",
        "Linha=(df.loc[(df[\"Ano\"]==78) & (df[\"HP\"]>=100)])\n",
        "Linha.plot(x=\"Modelo\", y=\"Acel\", kind=\"area\")"
      ],
      "metadata": {
        "id": "jAjW5pfam9xM"
      },
      "execution_count": null,
      "outputs": []
    }
  ]
}